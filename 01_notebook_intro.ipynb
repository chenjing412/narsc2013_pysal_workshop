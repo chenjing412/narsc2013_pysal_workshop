{
 "metadata": {
  "name": "01_notebook_intro"
 },
 "nbformat": 3,
 "nbformat_minor": 0,
 "worksheets": [
  {
   "cells": [
    {
     "cell_type": "markdown",
     "metadata": {},
     "source": [
      "IPython Notebook Tutorial\n",
      "======================="
     ]
    },
    {
     "cell_type": "markdown",
     "metadata": {},
     "source": [
      "This introductory tutorial is meant to get you comfortable with using IPython Notebook. It covers the following topics\n",
      "\n",
      "  - interactive commands\n",
      "  - text cells\n",
      "  - keyboard shortcuts\n",
      "  - plotting\n",
      "  - saving\n",
      "\n",
      "You should complete this before any other tutorials in the course."
     ]
    },
    {
     "cell_type": "markdown",
     "metadata": {},
     "source": [
      "-----"
     ]
    },
    {
     "cell_type": "heading",
     "level": 2,
     "metadata": {},
     "source": [
      "Interactive Commands"
     ]
    },
    {
     "cell_type": "markdown",
     "metadata": {},
     "source": [
      "The Notebook is built around the concept of **cells** which can take various types of input. One type of input is Python commands which can be excuted, in which case if the command generates output, you will see this."
     ]
    },
    {
     "cell_type": "code",
     "collapsed": false,
     "input": [
      "print 'Hello World!'"
     ],
     "language": "python",
     "metadata": {},
     "outputs": [
      {
       "output_type": "stream",
       "stream": "stdout",
       "text": [
        "Hello World!\n"
       ]
      }
     ],
     "prompt_number": 1
    },
    {
     "cell_type": "markdown",
     "metadata": {},
     "source": [
      "What we did there was enter `print 'Hello World!'` in an interactive cell and then used the key combination `Shift-Enter` to have that command evaluated. Now for something different:"
     ]
    },
    {
     "cell_type": "code",
     "collapsed": false,
     "input": [
      "x = arange(10)"
     ],
     "language": "python",
     "metadata": {},
     "outputs": [],
     "prompt_number": 2
    },
    {
     "cell_type": "markdown",
     "metadata": {},
     "source": [
      "In this case we created a new variable `x` that is a numpy array consisting of the values 0,1,...,9. We didn't get any output as this was an assignment operator. To see the contents of `x` just enter it in an interactive shell and `Shift-Enter`:"
     ]
    },
    {
     "cell_type": "code",
     "collapsed": false,
     "input": [
      "x"
     ],
     "language": "python",
     "metadata": {},
     "outputs": [
      {
       "output_type": "pyout",
       "prompt_number": 3,
       "text": [
        "array([0, 1, 2, 3, 4, 5, 6, 7, 8, 9])"
       ]
      }
     ],
     "prompt_number": 3
    },
    {
     "cell_type": "markdown",
     "metadata": {},
     "source": [
      "You can go back to a cell, edit it and reevaluate it. This turns out to be a very nice way to build up complex sequences of commands. To see this, in the next cell enter `x**2` which will raise each value in x to a power of two. Then execute the cell. Go back to edit the cell and change the power to a different value. *Take care with the order of operations*."
     ]
    },
    {
     "cell_type": "code",
     "collapsed": false,
     "input": [
      "x**(1/2.)"
     ],
     "language": "python",
     "metadata": {},
     "outputs": [
      {
       "output_type": "pyout",
       "prompt_number": 4,
       "text": [
        "array([ 0.        ,  1.        ,  1.41421356,  1.73205081,  2.        ,\n",
        "        2.23606798,  2.44948974,  2.64575131,  2.82842712,  3.        ])"
       ]
      }
     ],
     "prompt_number": 4
    },
    {
     "cell_type": "markdown",
     "metadata": {},
     "source": [
      "The interactive cells can have complex, multi-statement blocks of code:"
     ]
    },
    {
     "cell_type": "code",
     "collapsed": false,
     "input": [
      "for i in range(10):\n",
      "    if i%2:\n",
      "        print i, 'is odd'\n",
      "    else:\n",
      "        print i, 'is even'"
     ],
     "language": "python",
     "metadata": {},
     "outputs": [
      {
       "output_type": "stream",
       "stream": "stdout",
       "text": [
        "0 is even\n",
        "1 is odd\n",
        "2 is even\n",
        "3 is odd\n",
        "4 is even\n",
        "5 is odd\n",
        "6 is even\n",
        "7 is odd\n",
        "8 is even\n",
        "9 is odd\n"
       ]
      }
     ],
     "prompt_number": 5
    },
    {
     "cell_type": "markdown",
     "metadata": {},
     "source": [
      "-----"
     ]
    },
    {
     "cell_type": "heading",
     "level": 2,
     "metadata": {},
     "source": [
      "Text Cells"
     ]
    },
    {
     "cell_type": "markdown",
     "metadata": {},
     "source": [
      "All the notes listed above are in text cells. To start a text cell, put the cursor in a new cell and use the keys `Ctrl-m m`. That's simultaneously hitting the `control` key and the `m` key, then letting them go and immediately hitting `m` again. Then enter the text for the note. When finished `Shift-Enter` saves and runs the cell.\n",
      "\n",
      "The text can be in several formats:\n",
      "\n",
      " - raw text\n",
      " - Markdown\n",
      " - $\\LaTeX$"
     ]
    },
    {
     "cell_type": "heading",
     "level": 3,
     "metadata": {},
     "source": [
      "Raw Text"
     ]
    },
    {
     "cell_type": "markdown",
     "metadata": {},
     "source": [
      "Raw text is entered into any cell that we start with `Ctrl-m t`"
     ]
    },
    {
     "cell_type": "heading",
     "level": 3,
     "metadata": {},
     "source": [
      "Markdown"
     ]
    },
    {
     "cell_type": "markdown",
     "metadata": {},
     "source": [
      "Markdown is a lightweight markup syntax for the web. The idea is not to litter your content with ugly bracket, braces, angles etc, but rather be able to both read your source but also have it rendered nicely.\n",
      "\n",
      "You enter Markdown in any cell you start with `Ctrl-m m`\n",
      "\n",
      "For more details on Markdown see [Daring Fireball](http://daringfireball.net/projects/markdown/). "
     ]
    },
    {
     "cell_type": "heading",
     "level": 3,
     "metadata": {},
     "source": [
      "$\\LaTeX$"
     ]
    },
    {
     "cell_type": "markdown",
     "metadata": {},
     "source": [
      "$\\LaTeX$ is a markup system for mathematics. You can enter two types of math entries:\n",
      "\n",
      " - in-line\n",
      " - display\n",
      "\n",
      "An in-line equation is just that, it is part of a sentence, as in for a positively skewed distribution $\\bar{x} > med(x)$. A display entry stands on its own line as in: $$\\sum_{i=1}^n \\left(X_i + Y_i \\right) =\\sum_{i=1}^n X_i  + \\sum_{i=1}^n Y_i$$\n",
      "\n",
      "In the Notebook, $\\LaTeX$ can be entered in any Markdown cell. Delimiters for in-line equations are ``$`` and ``$`` while display equations use ``$$`` and ``$$``.\n",
      "\n",
      "For more information on LaTeX see one of the thousands of tutorials on the web, for example [this one](http://www.maths.tcd.ie/~dwilkins/LaTeXPrimer/). If you want to try to format something on-line (and want some hints) see [this](http://www.codecogs.com/latex/eqneditor.php)."
     ]
    },
    {
     "cell_type": "markdown",
     "metadata": {},
     "source": [
      "-----"
     ]
    },
    {
     "cell_type": "heading",
     "level": 2,
     "metadata": {},
     "source": [
      "Keyboard Shortcuts"
     ]
    },
    {
     "cell_type": "markdown",
     "metadata": {},
     "source": [
      "`Shift-Enter : run cell\n",
      "Ctrl-Enter : run cell in-place\n",
      "Ctrl-m x : cut cell\n",
      "Ctrl-m c : copy cell\n",
      "Ctrl-m v : paste cell\n",
      "Ctrl-m d : delete cell\n",
      "Ctrl-m a : insert cell above\n",
      "Ctrl-m b : insert cell below\n",
      "Ctrl-m o : toggle output\n",
      "Ctrl-m O : toggle output scroll\n",
      "Ctrl-m l : toggle line numbers\n",
      "Ctrl-m s : save notebook\n",
      "Ctrl-m j : move cell down\n",
      "Ctrl-m k : move cell up\n",
      "Ctrl-m y : code cell\n",
      "Ctrl-m m : markdown cell\n",
      "Ctrl-m t : raw cell\n",
      "Ctrl-m 1-6 : heading 1-6 cell\n",
      "Ctrl-m p : select previous\n",
      "Ctrl-m n : select next\n",
      "Ctrl-m i : interrupt kernel\n",
      "Ctrl-m . : restart kernel\n",
      "Ctrl-m h : show keyboard shortcuts`"
     ]
    },
    {
     "cell_type": "markdown",
     "metadata": {},
     "source": [
      "-----"
     ]
    },
    {
     "cell_type": "heading",
     "level": 2,
     "metadata": {},
     "source": [
      "Plotting"
     ]
    },
    {
     "cell_type": "code",
     "collapsed": false,
     "input": [
      "x = arange(10)\n",
      "y = x**2\n",
      "plot(x,y)"
     ],
     "language": "python",
     "metadata": {},
     "outputs": [
      {
       "output_type": "pyout",
       "prompt_number": 6,
       "text": [
        "[<matplotlib.lines.Line2D at 0x6025dd0>]"
       ]
      },
      {
       "output_type": "display_data",
       "png": "[encoded data removed]"
      }
     ],
     "prompt_number": 6
    },
    {
     "cell_type": "markdown",
     "metadata": {},
     "source": [
      "What we did was to enter the three commands, each followed by a ``Return``.  After the ``plot`` command was entered we then used ``Shift-Return`` and the result was our inline plot. This assumes we started our notebook with:\n",
      "   \n",
      "   `ipython notebook --pylab inline`"
     ]
    },
    {
     "cell_type": "markdown",
     "metadata": {},
     "source": [
      "-----"
     ]
    },
    {
     "cell_type": "heading",
     "level": 1,
     "metadata": {},
     "source": [
      "Saving"
     ]
    },
    {
     "cell_type": "markdown",
     "metadata": {},
     "source": [
      "The power in IPython Notebook is in its ability to save your work in a variety of formats, each with a different use case. When you are in the middle of a project and need to temporarily pause, you can simply save the session as a Notebook and come back later to where you left off.\n",
      "\n",
      "Alternatively, you may have finished your interactive work, generate the results that have been published, but you want to keep good notes so that if you need revisit your work you can be confident that you can replicate what you did. \n",
      "\n",
      "Finally, you may simply want to share your work as a permanent record and not want it edited. In this case you can save to pdf or html."
     ]
    },
    {
     "cell_type": "markdown",
     "metadata": {},
     "source": [
      "how to save"
     ]
    },
    {
     "cell_type": "markdown",
     "metadata": {},
     "source": [
      "how to import"
     ]
    },
    {
     "cell_type": "markdown",
     "metadata": {},
     "source": [
      "how to re-execute commands\n",
      "\n",
      "point out the interactive features compared to having to rerun a complete script which might have parts with significant costs that would best be run only once, while other marginal changes can be edited and rerun. Use case of having to stage these various components in different python scripts: the first ones would generate the fileIO and only need be run once, the subsequent scripts would then work on marginal changes. This worked, but it had the additional overhead of having to keep track of the sequence of files which meant yet another meta file or a good consistent approach towards commenting the individual files.\n",
      "\n",
      "With the Notebook, this all goes away - it can all be stored in one file.\n",
      "\n",
      "Point out that the memory only holds for the current session. If you quit, you will have to reexecute the cells to have them in memory."
     ]
    }
   ],
   "metadata": {}
  }
 ]
}