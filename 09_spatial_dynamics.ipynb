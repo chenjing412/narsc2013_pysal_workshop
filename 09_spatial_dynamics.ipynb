{
 "metadata": {
  "name": ""
 },
 "nbformat": 3,
 "nbformat_minor": 0,
 "worksheets": [
  {
   "cells": [
    {
     "cell_type": "code",
     "collapsed": false,
     "input": [
      "import pysal as ps\n",
      "import numpy as np"
     ],
     "language": "python",
     "metadata": {},
     "outputs": [],
     "prompt_number": 1
    },
    {
     "cell_type": "code",
     "collapsed": false,
     "input": [
      "f = ps.open(\"data/usjoin.csv\",'r')"
     ],
     "language": "python",
     "metadata": {},
     "outputs": [],
     "prompt_number": 2
    },
    {
     "cell_type": "markdown",
     "metadata": {},
     "source": [
      "To determine what is in the file, check the `header` attribute on the file object:"
     ]
    },
    {
     "cell_type": "code",
     "collapsed": false,
     "input": [
      "f.header"
     ],
     "language": "python",
     "metadata": {},
     "outputs": [
      {
       "metadata": {},
       "output_type": "pyout",
       "prompt_number": 3,
       "text": [
        "['Name',\n",
        " 'STATE_FIPS',\n",
        " '1929',\n",
        " '1930',\n",
        " '1931',\n",
        " '1932',\n",
        " '1933',\n",
        " '1934',\n",
        " '1935',\n",
        " '1936',\n",
        " '1937',\n",
        " '1938',\n",
        " '1939',\n",
        " '1940',\n",
        " '1941',\n",
        " '1942',\n",
        " '1943',\n",
        " '1944',\n",
        " '1945',\n",
        " '1946',\n",
        " '1947',\n",
        " '1948',\n",
        " '1949',\n",
        " '1950',\n",
        " '1951',\n",
        " '1952',\n",
        " '1953',\n",
        " '1954',\n",
        " '1955',\n",
        " '1956',\n",
        " '1957',\n",
        " '1958',\n",
        " '1959',\n",
        " '1960',\n",
        " '1961',\n",
        " '1962',\n",
        " '1963',\n",
        " '1964',\n",
        " '1965',\n",
        " '1966',\n",
        " '1967',\n",
        " '1968',\n",
        " '1969',\n",
        " '1970',\n",
        " '1971',\n",
        " '1972',\n",
        " '1973',\n",
        " '1974',\n",
        " '1975',\n",
        " '1976',\n",
        " '1977',\n",
        " '1978',\n",
        " '1979',\n",
        " '1980',\n",
        " '1981',\n",
        " '1982',\n",
        " '1983',\n",
        " '1984',\n",
        " '1985',\n",
        " '1986',\n",
        " '1987',\n",
        " '1988',\n",
        " '1989',\n",
        " '1990',\n",
        " '1991',\n",
        " '1992',\n",
        " '1993',\n",
        " '1994',\n",
        " '1995',\n",
        " '1996',\n",
        " '1997',\n",
        " '1998',\n",
        " '1999',\n",
        " '2000',\n",
        " '2001',\n",
        " '2002',\n",
        " '2003',\n",
        " '2004',\n",
        " '2005',\n",
        " '2006',\n",
        " '2007',\n",
        " '2008',\n",
        " '2009']"
       ]
      }
     ],
     "prompt_number": 3
    },
    {
     "cell_type": "markdown",
     "metadata": {},
     "source": [
      "Ok, lets pull in the name variable to see what we have"
     ]
    },
    {
     "cell_type": "code",
     "collapsed": false,
     "input": [
      "name = f.by_col('Name')"
     ],
     "language": "python",
     "metadata": {},
     "outputs": [],
     "prompt_number": 4
    },
    {
     "cell_type": "code",
     "collapsed": false,
     "input": [
      "name"
     ],
     "language": "python",
     "metadata": {},
     "outputs": [
      {
       "metadata": {},
       "output_type": "pyout",
       "prompt_number": 5,
       "text": [
        "['Alabama',\n",
        " 'Arizona',\n",
        " 'Arkansas',\n",
        " 'California',\n",
        " 'Colorado',\n",
        " 'Connecticut',\n",
        " 'Delaware',\n",
        " 'Florida',\n",
        " 'Georgia',\n",
        " 'Idaho',\n",
        " 'Illinois',\n",
        " 'Indiana',\n",
        " 'Iowa',\n",
        " 'Kansas',\n",
        " 'Kentucky',\n",
        " 'Louisiana',\n",
        " 'Maine',\n",
        " 'Maryland',\n",
        " 'Massachusetts',\n",
        " 'Michigan',\n",
        " 'Minnesota',\n",
        " 'Mississippi',\n",
        " 'Missouri',\n",
        " 'Montana',\n",
        " 'Nebraska',\n",
        " 'Nevada',\n",
        " 'New Hampshire',\n",
        " 'New Jersey',\n",
        " 'New Mexico',\n",
        " 'New York',\n",
        " 'North Carolina',\n",
        " 'North Dakota',\n",
        " 'Ohio',\n",
        " 'Oklahoma',\n",
        " 'Oregon',\n",
        " 'Pennsylvania',\n",
        " 'Rhode Island',\n",
        " 'South Carolina',\n",
        " 'South Dakota',\n",
        " 'Tennessee',\n",
        " 'Texas',\n",
        " 'Utah',\n",
        " 'Vermont',\n",
        " 'Virginia',\n",
        " 'Washington',\n",
        " 'West Virginia',\n",
        " 'Wisconsin',\n",
        " 'Wyoming']"
       ]
      }
     ],
     "prompt_number": 5
    },
    {
     "cell_type": "markdown",
     "metadata": {},
     "source": [
      "Now obtain per capital incomes in 1929 which is in the column associated with `1929`"
     ]
    },
    {
     "cell_type": "code",
     "collapsed": false,
     "input": [
      "y1929 = f.by_col('1929')"
     ],
     "language": "python",
     "metadata": {},
     "outputs": [],
     "prompt_number": 6
    },
    {
     "cell_type": "code",
     "collapsed": false,
     "input": [
      "y1929"
     ],
     "language": "python",
     "metadata": {},
     "outputs": [
      {
       "metadata": {},
       "output_type": "pyout",
       "prompt_number": 7,
       "text": [
        "[323,\n",
        " 600,\n",
        " 310,\n",
        " 991,\n",
        " 634,\n",
        " 1024,\n",
        " 1032,\n",
        " 518,\n",
        " 347,\n",
        " 507,\n",
        " 948,\n",
        " 607,\n",
        " 581,\n",
        " 532,\n",
        " 393,\n",
        " 414,\n",
        " 601,\n",
        " 768,\n",
        " 906,\n",
        " 790,\n",
        " 599,\n",
        " 286,\n",
        " 621,\n",
        " 592,\n",
        " 596,\n",
        " 868,\n",
        " 686,\n",
        " 918,\n",
        " 410,\n",
        " 1152,\n",
        " 332,\n",
        " 382,\n",
        " 771,\n",
        " 455,\n",
        " 668,\n",
        " 772,\n",
        " 874,\n",
        " 271,\n",
        " 426,\n",
        " 378,\n",
        " 479,\n",
        " 551,\n",
        " 634,\n",
        " 434,\n",
        " 741,\n",
        " 460,\n",
        " 673,\n",
        " 675]"
       ]
      }
     ],
     "prompt_number": 7
    },
    {
     "cell_type": "markdown",
     "metadata": {},
     "source": [
      "And now 2009"
     ]
    },
    {
     "cell_type": "code",
     "collapsed": false,
     "input": [
      "y2009 = f.by_col(\"2009\")"
     ],
     "language": "python",
     "metadata": {},
     "outputs": [],
     "prompt_number": 8
    },
    {
     "cell_type": "code",
     "collapsed": false,
     "input": [
      "y2009"
     ],
     "language": "python",
     "metadata": {},
     "outputs": [
      {
       "metadata": {},
       "output_type": "pyout",
       "prompt_number": 9,
       "text": [
        "[32274,\n",
        " 32077,\n",
        " 31493,\n",
        " 40902,\n",
        " 40093,\n",
        " 52736,\n",
        " 40135,\n",
        " 36565,\n",
        " 33086,\n",
        " 30987,\n",
        " 40933,\n",
        " 33174,\n",
        " 35983,\n",
        " 37036,\n",
        " 31250,\n",
        " 35151,\n",
        " 35268,\n",
        " 47159,\n",
        " 49590,\n",
        " 34280,\n",
        " 40920,\n",
        " 29318,\n",
        " 35106,\n",
        " 32699,\n",
        " 37057,\n",
        " 38009,\n",
        " 41882,\n",
        " 48123,\n",
        " 32197,\n",
        " 46844,\n",
        " 33564,\n",
        " 38672,\n",
        " 35018,\n",
        " 33708,\n",
        " 35210,\n",
        " 38827,\n",
        " 41283,\n",
        " 30835,\n",
        " 36499,\n",
        " 33512,\n",
        " 35674,\n",
        " 30107,\n",
        " 36752,\n",
        " 43211,\n",
        " 40619,\n",
        " 31843,\n",
        " 35676,\n",
        " 42504]"
       ]
      }
     ],
     "prompt_number": 9
    },
    {
     "cell_type": "markdown",
     "metadata": {},
     "source": [
      "These are read into regular Python lists which are not particularly well suited to efficient data analysis. So let's convert them to numpy arrays"
     ]
    },
    {
     "cell_type": "code",
     "collapsed": false,
     "input": [
      "y2009 = np.array(y2009)"
     ],
     "language": "python",
     "metadata": {},
     "outputs": [],
     "prompt_number": 10
    },
    {
     "cell_type": "code",
     "collapsed": false,
     "input": [
      "y2009"
     ],
     "language": "python",
     "metadata": {},
     "outputs": [
      {
       "metadata": {},
       "output_type": "pyout",
       "prompt_number": 11,
       "text": [
        "array([32274, 32077, 31493, 40902, 40093, 52736, 40135, 36565, 33086,\n",
        "       30987, 40933, 33174, 35983, 37036, 31250, 35151, 35268, 47159,\n",
        "       49590, 34280, 40920, 29318, 35106, 32699, 37057, 38009, 41882,\n",
        "       48123, 32197, 46844, 33564, 38672, 35018, 33708, 35210, 38827,\n",
        "       41283, 30835, 36499, 33512, 35674, 30107, 36752, 43211, 40619,\n",
        "       31843, 35676, 42504])"
       ]
      }
     ],
     "prompt_number": 11
    },
    {
     "cell_type": "markdown",
     "metadata": {},
     "source": [
      "Much better. But pulling these in and converting them a column at a time is tedious and error prone. So we will do all of this in a list comprehension."
     ]
    },
    {
     "cell_type": "code",
     "collapsed": false,
     "input": [
      "Y = np.array( [ f.by_col(str(year)) for year in range(1929,2010) ] ) * 1.0"
     ],
     "language": "python",
     "metadata": {},
     "outputs": [],
     "prompt_number": 12
    },
    {
     "cell_type": "code",
     "collapsed": false,
     "input": [
      "Y.shape"
     ],
     "language": "python",
     "metadata": {},
     "outputs": [
      {
       "metadata": {},
       "output_type": "pyout",
       "prompt_number": 13,
       "text": [
        "(81, 48)"
       ]
      }
     ],
     "prompt_number": 13
    },
    {
     "cell_type": "code",
     "collapsed": false,
     "input": [
      "Y = Y.transpose()"
     ],
     "language": "python",
     "metadata": {},
     "outputs": [],
     "prompt_number": 14
    },
    {
     "cell_type": "code",
     "collapsed": false,
     "input": [
      "Y.shape"
     ],
     "language": "python",
     "metadata": {},
     "outputs": [
      {
       "metadata": {},
       "output_type": "pyout",
       "prompt_number": 15,
       "text": [
        "(48, 81)"
       ]
      }
     ],
     "prompt_number": 15
    },
    {
     "cell_type": "code",
     "collapsed": false,
     "input": [
      "years = np.arange(1929,2010)"
     ],
     "language": "python",
     "metadata": {},
     "outputs": [],
     "prompt_number": 16
    },
    {
     "cell_type": "code",
     "collapsed": false,
     "input": [
      "plot(years,Y[0])"
     ],
     "language": "python",
     "metadata": {},
     "outputs": [
      {
       "metadata": {},
       "output_type": "pyout",
       "prompt_number": 17,
       "text": [
        "[<matplotlib.lines.Line2D at 0x109721810>]"
       ]
      },
      {
       "metadata": {},
       "output_type": "display_data",
       "png": "[encoded data removed]",
       "text": [
        "<matplotlib.figure.Figure at 0x1095e6190>"
       ]
      }
     ],
     "prompt_number": 17
    },
    {
     "cell_type": "code",
     "collapsed": false,
     "input": [
      "RY = Y / Y.mean(axis=0)"
     ],
     "language": "python",
     "metadata": {},
     "outputs": [],
     "prompt_number": 18
    },
    {
     "cell_type": "code",
     "collapsed": false,
     "input": [
      "plot(years,RY[0])"
     ],
     "language": "python",
     "metadata": {},
     "outputs": [
      {
       "metadata": {},
       "output_type": "pyout",
       "prompt_number": 19,
       "text": [
        "[<matplotlib.lines.Line2D at 0x10975c590>]"
       ]
      },
      {
       "metadata": {},
       "output_type": "display_data",
       "png": "[encoded data removed]",
       "text": [
        "<matplotlib.figure.Figure at 0x109733290>"
       ]
      }
     ],
     "prompt_number": 19
    },
    {
     "cell_type": "code",
     "collapsed": false,
     "input": [
      "name = np.array(name)"
     ],
     "language": "python",
     "metadata": {},
     "outputs": [],
     "prompt_number": 20
    },
    {
     "cell_type": "code",
     "collapsed": false,
     "input": [
      "np.nonzero(name=='Ohio')"
     ],
     "language": "python",
     "metadata": {},
     "outputs": [
      {
       "metadata": {},
       "output_type": "pyout",
       "prompt_number": 21,
       "text": [
        "(array([32]),)"
       ]
      }
     ],
     "prompt_number": 21
    },
    {
     "cell_type": "code",
     "collapsed": false,
     "input": [
      "plot(years, RY[32], label='Ohio')\n",
      "plot(years, RY[0], label='Alabama')\n",
      "legend()"
     ],
     "language": "python",
     "metadata": {},
     "outputs": [
      {
       "metadata": {},
       "output_type": "pyout",
       "prompt_number": 22,
       "text": [
        "<matplotlib.legend.Legend at 0x109a16e50>"
       ]
      },
      {
       "metadata": {},
       "output_type": "display_data",
       "png": "[encoded data removed]",
       "text": [
        "<matplotlib.figure.Figure at 0x109766490>"
       ]
      }
     ],
     "prompt_number": 22
    },
    {
     "cell_type": "heading",
     "level": 1,
     "metadata": {},
     "source": [
      "Kernel Density (univariate, aspatial)"
     ]
    },
    {
     "cell_type": "code",
     "collapsed": false,
     "input": [
      "from scipy.stats.kde import gaussian_kde"
     ],
     "language": "python",
     "metadata": {},
     "outputs": [],
     "prompt_number": 23
    },
    {
     "cell_type": "code",
     "collapsed": false,
     "input": [
      "density = gaussian_kde(Y[:,0])"
     ],
     "language": "python",
     "metadata": {},
     "outputs": [],
     "prompt_number": 24
    },
    {
     "cell_type": "code",
     "collapsed": false,
     "input": [
      "Y[:,0]"
     ],
     "language": "python",
     "metadata": {},
     "outputs": [
      {
       "metadata": {},
       "output_type": "pyout",
       "prompt_number": 25,
       "text": [
        "array([  323.,   600.,   310.,   991.,   634.,  1024.,  1032.,   518.,\n",
        "         347.,   507.,   948.,   607.,   581.,   532.,   393.,   414.,\n",
        "         601.,   768.,   906.,   790.,   599.,   286.,   621.,   592.,\n",
        "         596.,   868.,   686.,   918.,   410.,  1152.,   332.,   382.,\n",
        "         771.,   455.,   668.,   772.,   874.,   271.,   426.,   378.,\n",
        "         479.,   551.,   634.,   434.,   741.,   460.,   673.,   675.])"
       ]
      }
     ],
     "prompt_number": 25
    },
    {
     "cell_type": "code",
     "collapsed": false,
     "input": [
      "density = gaussian_kde(Y[:,0])"
     ],
     "language": "python",
     "metadata": {},
     "outputs": [],
     "prompt_number": 26
    },
    {
     "cell_type": "code",
     "collapsed": false,
     "input": [
      "minY0 = Y[:,0].min()*.90\n",
      "maxY0 = Y[:,0].max()*1.10\n",
      "x = np.linspace(minY0, maxY0, 100)"
     ],
     "language": "python",
     "metadata": {},
     "outputs": [],
     "prompt_number": 27
    },
    {
     "cell_type": "code",
     "collapsed": false,
     "input": [
      "plot(x,density(x))"
     ],
     "language": "python",
     "metadata": {},
     "outputs": [
      {
       "metadata": {},
       "output_type": "pyout",
       "prompt_number": 28,
       "text": [
        "[<matplotlib.lines.Line2D at 0x109ab0e10>]"
       ]
      },
      {
       "metadata": {},
       "output_type": "display_data",
       "png": "[encoded data removed]",
       "text": [
        "<matplotlib.figure.Figure at 0x109a2dad0>"
       ]
      }
     ],
     "prompt_number": 28
    },
    {
     "cell_type": "code",
     "collapsed": false,
     "input": [
      "d2009 = gaussian_kde(Y[:,-1])"
     ],
     "language": "python",
     "metadata": {},
     "outputs": [],
     "prompt_number": 29
    },
    {
     "cell_type": "code",
     "collapsed": false,
     "input": [
      "minY0 = Y[:,-1].min()*.90\n",
      "maxY0 = Y[:,-1].max()*1.10\n",
      "x = np.linspace(minY0, maxY0, 100)"
     ],
     "language": "python",
     "metadata": {},
     "outputs": [],
     "prompt_number": 30
    },
    {
     "cell_type": "code",
     "collapsed": false,
     "input": [
      "plot(x,d2009(x))"
     ],
     "language": "python",
     "metadata": {},
     "outputs": [
      {
       "metadata": {},
       "output_type": "pyout",
       "prompt_number": 31,
       "text": [
        "[<matplotlib.lines.Line2D at 0x109d6a910>]"
       ]
      },
      {
       "metadata": {},
       "output_type": "display_data",
       "png": "[encoded data removed]",
       "text": [
        "<matplotlib.figure.Figure at 0x10955ae90>"
       ]
      }
     ],
     "prompt_number": 31
    },
    {
     "cell_type": "code",
     "collapsed": false,
     "input": [
      "minR0 = RY.min()"
     ],
     "language": "python",
     "metadata": {},
     "outputs": [],
     "prompt_number": 32
    },
    {
     "cell_type": "code",
     "collapsed": false,
     "input": [
      "maxR0 = RY.max()"
     ],
     "language": "python",
     "metadata": {},
     "outputs": [],
     "prompt_number": 33
    },
    {
     "cell_type": "code",
     "collapsed": false,
     "input": [
      "x = np.linspace(minR0, maxR0, 100)"
     ],
     "language": "python",
     "metadata": {},
     "outputs": [],
     "prompt_number": 34
    },
    {
     "cell_type": "code",
     "collapsed": false,
     "input": [
      "d1929 = gaussian_kde(RY[:,0])"
     ],
     "language": "python",
     "metadata": {},
     "outputs": [],
     "prompt_number": 35
    },
    {
     "cell_type": "code",
     "collapsed": false,
     "input": [
      "d2009 = gaussian_kde(RY[:,-1])"
     ],
     "language": "python",
     "metadata": {},
     "outputs": [],
     "prompt_number": 36
    },
    {
     "cell_type": "code",
     "collapsed": false,
     "input": [
      "plot(x, d1929(x))\n",
      "plot(x, d2009(x))"
     ],
     "language": "python",
     "metadata": {},
     "outputs": [
      {
       "metadata": {},
       "output_type": "pyout",
       "prompt_number": 37,
       "text": [
        "[<matplotlib.lines.Line2D at 0x109d76b50>]"
       ]
      },
      {
       "metadata": {},
       "output_type": "display_data",
       "png": "[encoded data removed]",
       "text": [
        "<matplotlib.figure.Figure at 0x109d767d0>"
       ]
      }
     ],
     "prompt_number": 37
    },
    {
     "cell_type": "code",
     "collapsed": false,
     "input": [
      "plot(x, d1929(x), label='1929')\n",
      "plot(x, d2009(x), label='2009')\n",
      "legend()"
     ],
     "language": "python",
     "metadata": {},
     "outputs": [
      {
       "metadata": {},
       "output_type": "pyout",
       "prompt_number": 38,
       "text": [
        "<matplotlib.legend.Legend at 0x109dd8410>"
       ]
      },
      {
       "metadata": {},
       "output_type": "display_data",
       "png": "[encoded data removed]",
       "text": [
        "<matplotlib.figure.Figure at 0x109daa1d0>"
       ]
      }
     ],
     "prompt_number": 38
    },
    {
     "cell_type": "heading",
     "level": 2,
     "metadata": {},
     "source": [
      "Markov Chains"
     ]
    },
    {
     "cell_type": "code",
     "collapsed": false,
     "input": [
      "c = np.array([['b','a','c'],\n",
      "['c','c','a'],\n",
      "['c','b','c'],\n",
      "['a','a','b'],\n",
      "['a','b','c']])"
     ],
     "language": "python",
     "metadata": {},
     "outputs": [],
     "prompt_number": 39
    },
    {
     "cell_type": "code",
     "collapsed": false,
     "input": [
      "c"
     ],
     "language": "python",
     "metadata": {},
     "outputs": [
      {
       "metadata": {},
       "output_type": "pyout",
       "prompt_number": 40,
       "text": [
        "array([['b', 'a', 'c'],\n",
        "       ['c', 'c', 'a'],\n",
        "       ['c', 'b', 'c'],\n",
        "       ['a', 'a', 'b'],\n",
        "       ['a', 'b', 'c']], \n",
        "      dtype='|S1')"
       ]
      }
     ],
     "prompt_number": 40
    },
    {
     "cell_type": "code",
     "collapsed": false,
     "input": [
      "m = ps.Markov(c)"
     ],
     "language": "python",
     "metadata": {},
     "outputs": [],
     "prompt_number": 41
    },
    {
     "cell_type": "code",
     "collapsed": false,
     "input": [
      "m.classes"
     ],
     "language": "python",
     "metadata": {},
     "outputs": [
      {
       "metadata": {},
       "output_type": "pyout",
       "prompt_number": 42,
       "text": [
        "array(['a', 'b', 'c'], \n",
        "      dtype='|S1')"
       ]
      }
     ],
     "prompt_number": 42
    },
    {
     "cell_type": "code",
     "collapsed": false,
     "input": [
      "m.transitions"
     ],
     "language": "python",
     "metadata": {},
     "outputs": [
      {
       "metadata": {},
       "output_type": "pyout",
       "prompt_number": 43,
       "text": [
        "array([[ 1.,  2.,  1.],\n",
        "       [ 1.,  0.,  2.],\n",
        "       [ 1.,  1.,  1.]])"
       ]
      }
     ],
     "prompt_number": 43
    },
    {
     "cell_type": "code",
     "collapsed": false,
     "input": [
      "m.p"
     ],
     "language": "python",
     "metadata": {},
     "outputs": [
      {
       "metadata": {},
       "output_type": "pyout",
       "prompt_number": 44,
       "text": [
        "matrix([[ 0.25      ,  0.5       ,  0.25      ],\n",
        "        [ 0.33333333,  0.        ,  0.66666667],\n",
        "        [ 0.33333333,  0.33333333,  0.33333333]])"
       ]
      }
     ],
     "prompt_number": 44
    },
    {
     "cell_type": "heading",
     "level": 3,
     "metadata": {},
     "source": [
      "State Per Capita Incomes"
     ]
    },
    {
     "cell_type": "code",
     "collapsed": false,
     "input": [
      "f = ps.open(\"data/usjoin.csv\")\n",
      "pci = np.array([f.by_col[str(y)] for y in range(1929,2010)])\n",
      "pci.shape"
     ],
     "language": "python",
     "metadata": {},
     "outputs": [
      {
       "metadata": {},
       "output_type": "pyout",
       "prompt_number": 45,
       "text": [
        "(81, 48)"
       ]
      }
     ],
     "prompt_number": 45
    },
    {
     "cell_type": "markdown",
     "metadata": {},
     "source": [
      "Put series into cross-sectional quintiles (i.e., quintiles for each year)"
     ]
    },
    {
     "cell_type": "code",
     "collapsed": false,
     "input": [
      "q5 = np.array([ps.Quantiles(y).yb for y in pci]).transpose()"
     ],
     "language": "python",
     "metadata": {},
     "outputs": [],
     "prompt_number": 46
    },
    {
     "cell_type": "code",
     "collapsed": false,
     "input": [
      "q5.shape"
     ],
     "language": "python",
     "metadata": {},
     "outputs": [
      {
       "metadata": {},
       "output_type": "pyout",
       "prompt_number": 47,
       "text": [
        "(48, 81)"
       ]
      }
     ],
     "prompt_number": 47
    },
    {
     "cell_type": "code",
     "collapsed": false,
     "input": [
      "q5[:,0]"
     ],
     "language": "python",
     "metadata": {},
     "outputs": [
      {
       "metadata": {},
       "output_type": "pyout",
       "prompt_number": 48,
       "text": [
        "array([0, 2, 0, 4, 2, 4, 4, 1, 0, 1, 4, 2, 2, 1, 0, 1, 2, 3, 4, 4, 2, 0, 2,\n",
        "       2, 2, 4, 3, 4, 0, 4, 0, 0, 3, 1, 3, 3, 4, 0, 1, 0, 1, 2, 2, 1, 3, 1,\n",
        "       3, 3])"
       ]
      }
     ],
     "prompt_number": 48
    },
    {
     "cell_type": "code",
     "collapsed": false,
     "input": [
      "pci.shape"
     ],
     "language": "python",
     "metadata": {},
     "outputs": [
      {
       "metadata": {},
       "output_type": "pyout",
       "prompt_number": 49,
       "text": [
        "(81, 48)"
       ]
      }
     ],
     "prompt_number": 49
    },
    {
     "cell_type": "code",
     "collapsed": false,
     "input": [
      "pci[0]"
     ],
     "language": "python",
     "metadata": {},
     "outputs": [
      {
       "metadata": {},
       "output_type": "pyout",
       "prompt_number": 50,
       "text": [
        "array([ 323,  600,  310,  991,  634, 1024, 1032,  518,  347,  507,  948,\n",
        "        607,  581,  532,  393,  414,  601,  768,  906,  790,  599,  286,\n",
        "        621,  592,  596,  868,  686,  918,  410, 1152,  332,  382,  771,\n",
        "        455,  668,  772,  874,  271,  426,  378,  479,  551,  634,  434,\n",
        "        741,  460,  673,  675])"
       ]
      }
     ],
     "prompt_number": 50
    },
    {
     "cell_type": "markdown",
     "metadata": {},
     "source": [
      "we are looping over the rows of y which is ordered Txn (rows are cross sections, row 0 is the cross-section for period 0"
     ]
    },
    {
     "cell_type": "code",
     "collapsed": false,
     "input": [
      "m5 = ps.Markov(q5)"
     ],
     "language": "python",
     "metadata": {},
     "outputs": [],
     "prompt_number": 51
    },
    {
     "cell_type": "code",
     "collapsed": false,
     "input": [
      "m5.classes"
     ],
     "language": "python",
     "metadata": {},
     "outputs": [
      {
       "metadata": {},
       "output_type": "pyout",
       "prompt_number": 52,
       "text": [
        "array([0, 1, 2, 3, 4])"
       ]
      }
     ],
     "prompt_number": 52
    },
    {
     "cell_type": "code",
     "collapsed": false,
     "input": [
      "m5.transitions"
     ],
     "language": "python",
     "metadata": {},
     "outputs": [
      {
       "metadata": {},
       "output_type": "pyout",
       "prompt_number": 53,
       "text": [
        "array([[ 729.,   71.,    1.,    0.,    0.],\n",
        "       [  72.,  567.,   80.,    3.,    0.],\n",
        "       [   0.,   81.,  631.,   86.,    2.],\n",
        "       [   0.,    3.,   86.,  573.,   56.],\n",
        "       [   0.,    0.,    1.,   57.,  741.]])"
       ]
      }
     ],
     "prompt_number": 53
    },
    {
     "cell_type": "code",
     "collapsed": false,
     "input": [
      "m5.p"
     ],
     "language": "python",
     "metadata": {},
     "outputs": [
      {
       "metadata": {},
       "output_type": "pyout",
       "prompt_number": 54,
       "text": [
        "matrix([[ 0.91011236,  0.0886392 ,  0.00124844,  0.        ,  0.        ],\n",
        "        [ 0.09972299,  0.78531856,  0.11080332,  0.00415512,  0.        ],\n",
        "        [ 0.        ,  0.10125   ,  0.78875   ,  0.1075    ,  0.0025    ],\n",
        "        [ 0.        ,  0.00417827,  0.11977716,  0.79805014,  0.07799443],\n",
        "        [ 0.        ,  0.        ,  0.00125156,  0.07133917,  0.92740926]])"
       ]
      }
     ],
     "prompt_number": 54
    },
    {
     "cell_type": "code",
     "collapsed": false,
     "input": [
      "m5.steady_state"
     ],
     "language": "python",
     "metadata": {},
     "outputs": [
      {
       "metadata": {},
       "output_type": "pyout",
       "prompt_number": 55,
       "text": [
        "matrix([[ 0.20774716],\n",
        "        [ 0.18725774],\n",
        "        [ 0.20740537],\n",
        "        [ 0.18821787],\n",
        "        [ 0.20937187]])"
       ]
      }
     ],
     "prompt_number": 55
    },
    {
     "cell_type": "code",
     "collapsed": false,
     "input": [
      "fmpt = ps.ergodic.fmpt(m5.p)"
     ],
     "language": "python",
     "metadata": {},
     "outputs": [],
     "prompt_number": 56
    },
    {
     "cell_type": "code",
     "collapsed": false,
     "input": [
      "fmpt"
     ],
     "language": "python",
     "metadata": {},
     "outputs": [
      {
       "metadata": {},
       "output_type": "pyout",
       "prompt_number": 57,
       "text": [
        "matrix([[   4.81354357,   11.50292712,   29.60921231,   53.38594954,\n",
        "          103.59816743],\n",
        "        [  42.04774505,    5.34023324,   18.74455332,   42.50023268,\n",
        "           92.71316899],\n",
        "        [  69.25849753,   27.21075248,    4.82147603,   25.27184624,\n",
        "           75.43305672],\n",
        "        [  84.90689329,   42.85914824,   17.18082642,    5.31299186,\n",
        "           51.60953369],\n",
        "        [  98.41295543,   56.36521038,   30.66046735,   14.21158356,\n",
        "            4.77619083]])"
       ]
      }
     ],
     "prompt_number": 57
    },
    {
     "cell_type": "markdown",
     "metadata": {},
     "source": [
      "For a state with income in the first quintile, it takes on average 11.5 years for it to first enter the second quintile, 29.6 to get to the third quintile, 53.4 years to enter the fourth, and 103.6 years to reach the richest quintile."
     ]
    },
    {
     "cell_type": "heading",
     "level": 2,
     "metadata": {},
     "source": [
      "Spatial Markov"
     ]
    },
    {
     "cell_type": "code",
     "collapsed": false,
     "input": [
      "pci.shape"
     ],
     "language": "python",
     "metadata": {},
     "outputs": [
      {
       "metadata": {},
       "output_type": "pyout",
       "prompt_number": 58,
       "text": [
        "(81, 48)"
       ]
      }
     ],
     "prompt_number": 58
    },
    {
     "cell_type": "code",
     "collapsed": false,
     "input": [
      "pci = pci.T"
     ],
     "language": "python",
     "metadata": {},
     "outputs": [],
     "prompt_number": 59
    },
    {
     "cell_type": "code",
     "collapsed": false,
     "input": [
      "pci.shape"
     ],
     "language": "python",
     "metadata": {},
     "outputs": [
      {
       "metadata": {},
       "output_type": "pyout",
       "prompt_number": 60,
       "text": [
        "(48, 81)"
       ]
      }
     ],
     "prompt_number": 60
    },
    {
     "cell_type": "code",
     "collapsed": false,
     "input": [
      "rpci = pci / pci.mean(axis=0)"
     ],
     "language": "python",
     "metadata": {},
     "outputs": [],
     "prompt_number": 61
    },
    {
     "cell_type": "code",
     "collapsed": false,
     "input": [
      "rpci[:,0]"
     ],
     "language": "python",
     "metadata": {},
     "outputs": [
      {
       "metadata": {},
       "output_type": "pyout",
       "prompt_number": 62,
       "text": [
        "array([ 0.5250254 ,  0.97527938,  0.50389434,  1.61083644,  1.03054521,\n",
        "        1.6644768 ,  1.67748053,  0.8419912 ,  0.56403657,  0.82411107,\n",
        "        1.54094142,  0.98665764,  0.94439553,  0.86474771,  0.63880799,\n",
        "        0.67294277,  0.97690484,  1.2483576 ,  1.47267186,  1.28411785,\n",
        "        0.97365391,  0.46488317,  1.00941416,  0.96227565,  0.96877751,\n",
        "        1.41090417,  1.11506942,  1.49217745,  0.66644091,  1.8725364 ,\n",
        "        0.53965459,  0.62092787,  1.253234  ,  0.73958686,  1.08581104,\n",
        "        1.25485946,  1.42065696,  0.44050119,  0.69244836,  0.61442601,\n",
        "        0.77859804,  0.89563156,  1.03054521,  0.70545208,  1.20447003,\n",
        "        0.74771419,  1.09393837,  1.0971893 ])"
       ]
      }
     ],
     "prompt_number": 62
    },
    {
     "cell_type": "code",
     "collapsed": false,
     "input": [
      "rpci[:,0].mean()"
     ],
     "language": "python",
     "metadata": {},
     "outputs": [
      {
       "metadata": {},
       "output_type": "pyout",
       "prompt_number": 63,
       "text": [
        "0.99999999999999989"
       ]
      }
     ],
     "prompt_number": 63
    },
    {
     "cell_type": "markdown",
     "metadata": {},
     "source": [
      "Read in a GAL file to construct our W"
     ]
    },
    {
     "cell_type": "code",
     "collapsed": false,
     "input": [
      "w = ps.open(ps.examples.get_path(\"states48.gal\")).read()"
     ],
     "language": "python",
     "metadata": {},
     "outputs": [],
     "prompt_number": 64
    },
    {
     "cell_type": "code",
     "collapsed": false,
     "input": [
      "w.n"
     ],
     "language": "python",
     "metadata": {},
     "outputs": [
      {
       "metadata": {},
       "output_type": "pyout",
       "prompt_number": 65,
       "text": [
        "48"
       ]
      }
     ],
     "prompt_number": 65
    },
    {
     "cell_type": "code",
     "collapsed": false,
     "input": [
      "w.transform = 'R'"
     ],
     "language": "python",
     "metadata": {},
     "outputs": [],
     "prompt_number": 66
    },
    {
     "cell_type": "code",
     "collapsed": false,
     "input": [
      "sm = ps.Spatial_Markov(rpci, w, fixed=True, k=5)"
     ],
     "language": "python",
     "metadata": {},
     "outputs": [],
     "prompt_number": 67
    },
    {
     "cell_type": "code",
     "collapsed": false,
     "input": [
      "sm.p"
     ],
     "language": "python",
     "metadata": {},
     "outputs": [
      {
       "metadata": {},
       "output_type": "pyout",
       "prompt_number": 68,
       "text": [
        "matrix([[ 0.91461837,  0.07503234,  0.00905563,  0.00129366,  0.        ],\n",
        "        [ 0.06570302,  0.82654402,  0.10512484,  0.00131406,  0.00131406],\n",
        "        [ 0.00520833,  0.10286458,  0.79427083,  0.09505208,  0.00260417],\n",
        "        [ 0.        ,  0.00913838,  0.09399478,  0.84856397,  0.04830287],\n",
        "        [ 0.        ,  0.        ,  0.        ,  0.06217617,  0.93782383]])"
       ]
      }
     ],
     "prompt_number": 68
    },
    {
     "cell_type": "code",
     "collapsed": false,
     "input": [
      "for p in sm.P:\n",
      "    print p"
     ],
     "language": "python",
     "metadata": {},
     "outputs": [
      {
       "output_type": "stream",
       "stream": "stdout",
       "text": [
        "[[ 0.96341463  0.0304878   0.00609756  0.          0.        ]\n",
        " [ 0.06040268  0.83221477  0.10738255  0.          0.        ]\n",
        " [ 0.          0.14        0.74        0.12        0.        ]\n",
        " [ 0.          0.03571429  0.32142857  0.57142857  0.07142857]\n",
        " [ 0.          0.          0.          0.16666667  0.83333333]]\n",
        "[[ 0.79831933  0.16806723  0.03361345  0.          0.        ]\n",
        " [ 0.0754717   0.88207547  0.04245283  0.          0.        ]\n",
        " [ 0.00537634  0.06989247  0.8655914   0.05913978  0.        ]\n",
        " [ 0.          0.          0.06372549  0.90196078  0.03431373]\n",
        " [ 0.          0.          0.          0.19444444  0.80555556]]\n",
        "[[ 0.84693878  0.15306122  0.          0.          0.        ]\n",
        " [ 0.08133971  0.78947368  0.1291866   0.          0.        ]\n",
        " [ 0.00518135  0.0984456   0.79274611  0.0984456   0.00518135]\n",
        " [ 0.          0.          0.09411765  0.87058824  0.03529412]\n",
        " [ 0.          0.          0.          0.10204082  0.89795918]]\n",
        "[[ 0.8852459   0.09836066  0.          0.01639344  0.        ]\n",
        " [ 0.03875969  0.81395349  0.13953488  0.          0.00775194]\n",
        " [ 0.0049505   0.09405941  0.77722772  0.11881188  0.0049505 ]\n",
        " [ 0.          0.02339181  0.12865497  0.75438596  0.09356725]\n",
        " [ 0.          0.          0.          0.09661836  0.90338164]]\n",
        "[[ 0.33333333  0.66666667  0.          0.          0.        ]\n",
        " [ 0.0483871   0.77419355  0.16129032  0.01612903  0.        ]\n",
        " [ 0.01149425  0.16091954  0.74712644  0.08045977  0.        ]\n",
        " [ 0.          0.01036269  0.06217617  0.89637306  0.03108808]\n",
        " [ 0.          0.          0.          0.02352941  0.97647059]]\n"
       ]
      }
     ],
     "prompt_number": 69
    },
    {
     "cell_type": "code",
     "collapsed": false,
     "input": [
      "sm.S"
     ],
     "language": "python",
     "metadata": {},
     "outputs": [
      {
       "metadata": {},
       "output_type": "pyout",
       "prompt_number": 70,
       "text": [
        "array([[ 0.43509425,  0.2635327 ,  0.20363044,  0.06841983,  0.02932278],\n",
        "       [ 0.13391287,  0.33993305,  0.25153036,  0.23343016,  0.04119356],\n",
        "       [ 0.12124869,  0.21137444,  0.2635101 ,  0.29013417,  0.1137326 ],\n",
        "       [ 0.0776413 ,  0.19748806,  0.25352636,  0.22480415,  0.24654013],\n",
        "       [ 0.01776781,  0.19964349,  0.19009833,  0.25524697,  0.3372434 ]])"
       ]
      }
     ],
     "prompt_number": 70
    },
    {
     "cell_type": "code",
     "collapsed": false,
     "input": [
      "for f in sm.F:\n",
      "    print f"
     ],
     "language": "python",
     "metadata": {},
     "outputs": [
      {
       "output_type": "stream",
       "stream": "stdout",
       "text": [
        "[[   2.29835259   28.95614035   46.14285714   80.80952381  279.42857143]\n",
        " [  33.86549708    3.79459555   22.57142857   57.23809524  255.85714286]\n",
        " [  43.60233918    9.73684211    4.91085714   34.66666667  233.28571429]\n",
        " [  46.62865497   12.76315789    6.25714286   14.61564626  198.61904762]\n",
        " [  52.62865497   18.76315789   12.25714286    6.           34.1031746 ]]\n",
        "[[   7.46754205    9.70574606   25.76785714   74.53116883  194.23446197]\n",
        " [  27.76691978    2.94175577   24.97142857   73.73474026  193.4380334 ]\n",
        " [  53.57477715   28.48447637    3.97566318   48.76331169  168.46660482]\n",
        " [  72.03631562   46.94601483   18.46153846    4.28393653  119.70329314]\n",
        " [  77.17917276   52.08887197   23.6043956     5.14285714   24.27564033]]\n",
        "[[   8.24751154    6.53333333   18.38765432   40.70864198  112.76732026]\n",
        " [  47.35040872    4.73094099   11.85432099   34.17530864  106.23398693]\n",
        " [  69.42288828   24.76666667    3.794921     22.32098765   94.37966594]\n",
        " [  83.72288828   39.06666667   14.3           3.44668119   76.36702977]\n",
        " [  93.52288828   48.86666667   24.1           9.8           8.79255406]]\n",
        "[[  12.87974382   13.34847151   19.83446328   28.47257282   55.82395142]\n",
        " [  99.46114206    5.06359731   10.54545198   23.05133495   49.68944423]\n",
        " [ 117.76777159   23.03735526    3.94436301   15.0843986    43.57927247]\n",
        " [ 127.89752089   32.4393006    14.56853107    4.44831643   31.63099455]\n",
        " [ 138.24752089   42.7893006    24.91853107   10.35          4.05613474]]\n",
        "[[  56.2815534     1.5          10.57236842   27.02173913  110.54347826]\n",
        " [  82.9223301     5.00892857    9.07236842   25.52173913  109.04347826]\n",
        " [  97.17718447   19.53125       5.26043557   21.42391304  104.94565217]\n",
        " [ 127.1407767    48.74107143   33.29605263    3.91777427   83.52173913]\n",
        " [ 169.6407767    91.24107143   75.79605263   42.5           2.96521739]]\n"
       ]
      }
     ],
     "prompt_number": 71
    },
    {
     "cell_type": "heading",
     "level": 2,
     "metadata": {},
     "source": [
      "LISA Markov"
     ]
    },
    {
     "cell_type": "code",
     "collapsed": false,
     "input": [
      "lm = ps.LISA_Markov(pci,w)"
     ],
     "language": "python",
     "metadata": {},
     "outputs": [],
     "prompt_number": 72
    },
    {
     "cell_type": "code",
     "collapsed": false,
     "input": [
      "lm.classes "
     ],
     "language": "python",
     "metadata": {},
     "outputs": [
      {
       "metadata": {},
       "output_type": "pyout",
       "prompt_number": 73,
       "text": [
        "array([1, 2, 3, 4])"
       ]
      }
     ],
     "prompt_number": 73
    },
    {
     "cell_type": "code",
     "collapsed": false,
     "input": [
      "lm.transitions"
     ],
     "language": "python",
     "metadata": {},
     "outputs": [
      {
       "metadata": {},
       "output_type": "pyout",
       "prompt_number": 74,
       "text": [
        "array([[  1.08700000e+03,   4.40000000e+01,   4.00000000e+00,\n",
        "          3.40000000e+01],\n",
        "       [  4.10000000e+01,   4.70000000e+02,   3.60000000e+01,\n",
        "          1.00000000e+00],\n",
        "       [  5.00000000e+00,   3.40000000e+01,   1.42200000e+03,\n",
        "          3.90000000e+01],\n",
        "       [  3.00000000e+01,   1.00000000e+00,   4.00000000e+01,\n",
        "          5.52000000e+02]])"
       ]
      }
     ],
     "prompt_number": 74
    },
    {
     "cell_type": "code",
     "collapsed": false,
     "input": [
      "lm.p"
     ],
     "language": "python",
     "metadata": {},
     "outputs": [
      {
       "metadata": {},
       "output_type": "pyout",
       "prompt_number": 75,
       "text": [
        "matrix([[ 0.92985458,  0.03763901,  0.00342173,  0.02908469],\n",
        "        [ 0.07481752,  0.85766423,  0.06569343,  0.00182482],\n",
        "        [ 0.00333333,  0.02266667,  0.948     ,  0.026     ],\n",
        "        [ 0.04815409,  0.00160514,  0.06420546,  0.88603531]])"
       ]
      }
     ],
     "prompt_number": 75
    },
    {
     "cell_type": "code",
     "collapsed": false,
     "input": [
      "lm.steady_state"
     ],
     "language": "python",
     "metadata": {},
     "outputs": [
      {
       "metadata": {},
       "output_type": "pyout",
       "prompt_number": 76,
       "text": [
        "matrix([[ 0.28561505],\n",
        "        [ 0.14190226],\n",
        "        [ 0.40493672],\n",
        "        [ 0.16754598]])"
       ]
      }
     ],
     "prompt_number": 76
    },
    {
     "cell_type": "code",
     "collapsed": false,
     "input": [
      "ps.ergodic.fmpt(lm.p)"
     ],
     "language": "python",
     "metadata": {},
     "outputs": [
      {
       "metadata": {},
       "output_type": "pyout",
       "prompt_number": 77,
       "text": [
        "matrix([[  3.50121609,  37.93025465,  40.55772829,  43.17412009],\n",
        "        [ 31.72800152,   7.04710419,  28.68182751,  49.91485137],\n",
        "        [ 52.44489385,  47.42097495,   2.46952168,  43.75609676],\n",
        "        [ 38.76794022,  51.51755827,  26.31568558,   5.96851095]])"
       ]
      }
     ],
     "prompt_number": 77
    },
    {
     "cell_type": "heading",
     "level": 3,
     "metadata": {},
     "source": [
      "Test of independence of own chains and lag chains"
     ]
    },
    {
     "cell_type": "code",
     "collapsed": false,
     "input": [
      "lm.transitions"
     ],
     "language": "python",
     "metadata": {},
     "outputs": [
      {
       "metadata": {},
       "output_type": "pyout",
       "prompt_number": 78,
       "text": [
        "array([[  1.08700000e+03,   4.40000000e+01,   4.00000000e+00,\n",
        "          3.40000000e+01],\n",
        "       [  4.10000000e+01,   4.70000000e+02,   3.60000000e+01,\n",
        "          1.00000000e+00],\n",
        "       [  5.00000000e+00,   3.40000000e+01,   1.42200000e+03,\n",
        "          3.90000000e+01],\n",
        "       [  3.00000000e+01,   1.00000000e+00,   4.00000000e+01,\n",
        "          5.52000000e+02]])"
       ]
      }
     ],
     "prompt_number": 78
    },
    {
     "cell_type": "code",
     "collapsed": false,
     "input": [
      "lm.expected_t"
     ],
     "language": "python",
     "metadata": {},
     "outputs": [
      {
       "metadata": {},
       "output_type": "pyout",
       "prompt_number": 79,
       "text": [
        "array([[  1.12328098e+03,   1.15377356e+01,   3.47522158e-01,\n",
        "          3.38337644e+01],\n",
        "       [  3.50272664e+00,   5.28473882e+02,   1.59178880e+01,\n",
        "          1.05503814e-01],\n",
        "       [  1.53878082e-01,   2.32163556e+01,   1.46690710e+03,\n",
        "          9.72266513e+00],\n",
        "       [  9.60775143e+00,   9.86856346e-02,   6.23537392e+00,\n",
        "          6.07058189e+02]])"
       ]
      }
     ],
     "prompt_number": 79
    },
    {
     "cell_type": "code",
     "collapsed": false,
     "input": [
      "lm.chi_2"
     ],
     "language": "python",
     "metadata": {},
     "outputs": [
      {
       "metadata": {},
       "output_type": "pyout",
       "prompt_number": 80,
       "text": [
        "(162.47505958346289, 0.0, 9)"
       ]
      }
     ],
     "prompt_number": 80
    },
    {
     "cell_type": "code",
     "collapsed": false,
     "input": [],
     "language": "python",
     "metadata": {},
     "outputs": [],
     "prompt_number": 80
    },
    {
     "cell_type": "code",
     "collapsed": false,
     "input": [],
     "language": "python",
     "metadata": {},
     "outputs": []
    }
   ],
   "metadata": {}
  }
 ]
}