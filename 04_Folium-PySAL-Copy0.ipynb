{
 "metadata": {
  "name": ""
 },
 "nbformat": 3,
 "nbformat_minor": 0,
 "worksheets": [
  {
   "cells": [
    {
     "cell_type": "markdown",
     "metadata": {},
     "source": [
      "## Using Folium and PySAL\n",
      "In this notebook we will explore using Folium and PySAL together with a focus on defining different classification schemes for the choropleth maps of US county unemployment rates."
     ]
    },
    {
     "cell_type": "markdown",
     "metadata": {},
     "source": [
      "## Prior to starting this notebook, issue the following at a shell:\n",
      "\n",
      "```\n",
      "python -m SimpleHTTPServer 8015 &ipython notebook --pylab=inline\n",
      "```"
     ]
    },
    {
     "cell_type": "code",
     "collapsed": false,
     "input": [
      "\n",
      "from IPython.display import HTML\n",
      "import folium\n",
      "import random\n",
      "import pandas as pd\n"
     ],
     "language": "python",
     "metadata": {},
     "outputs": [],
     "prompt_number": 57
    },
    {
     "cell_type": "code",
     "collapsed": false,
     "input": [
      "# only load data one time\n",
      "#Grab the geojson from github\n",
      "county_geo = r'us_counties_20m_topo.json'\n",
      "\n",
      "#county_data = 'https://raw.github.com/wrobstory/folium/master/examples/data/us_county_data.csv'\n",
      "county_data = \"us_county_data.csv\"\n",
      "df = pd.read_csv(county_data, na_values=[' '])\n",
      "df['FIPS_Code'] = df['FIPS_Code'].astype(str)\n",
      "\n",
      "def set_id(fips):\n",
      "    '''Modify FIPS code to match GeoJSON property'''\n",
      "    if fips == '0':\n",
      "        return None\n",
      "    elif len(fips) <= 4:\n",
      "        return ''.join(['0500000US0', fips])\n",
      "    else:\n",
      "        return ''.join(['0500000US', fips])\n",
      "\n",
      "#Apply set_id, drop NaN\n",
      "df['GEO_ID'] = df['FIPS_Code'].apply(set_id)\n",
      "df = df.dropna()"
     ],
     "language": "python",
     "metadata": {},
     "outputs": [],
     "prompt_number": 58
    },
    {
     "cell_type": "code",
     "collapsed": false,
     "input": [
      "df"
     ],
     "language": "python",
     "metadata": {},
     "outputs": [
      {
       "html": [
        "<pre>\n",
        "&ltclass 'pandas.core.frame.DataFrame'&gt\n",
        "Int64Index: 3193 entries, 1 to 3196\n",
        "Data columns (total 10 columns):\n",
        "FIPS_Code                                   3193  non-null values\n",
        "State                                       3193  non-null values\n",
        "Area_name                                   3193  non-null values\n",
        "Civilian_labor_force_2011                   3193  non-null values\n",
        "Employed_2011                               3193  non-null values\n",
        "Unemployed_2011                             3193  non-null values\n",
        "Unemployment_rate_2011                      3193  non-null values\n",
        "Median_Household_Income_2011                3193  non-null values\n",
        "Med_HH_Income_Percent_of_StateTotal_2011    3193  non-null values\n",
        "GEO_ID                                      3193  non-null values\n",
        "dtypes: float64(6), object(4)\n",
        "</pre>"
       ],
       "metadata": {},
       "output_type": "pyout",
       "prompt_number": 59,
       "text": [
        "<class 'pandas.core.frame.DataFrame'>\n",
        "Int64Index: 3193 entries, 1 to 3196\n",
        "Data columns (total 10 columns):\n",
        "FIPS_Code                                   3193  non-null values\n",
        "State                                       3193  non-null values\n",
        "Area_name                                   3193  non-null values\n",
        "Civilian_labor_force_2011                   3193  non-null values\n",
        "Employed_2011                               3193  non-null values\n",
        "Unemployed_2011                             3193  non-null values\n",
        "Unemployment_rate_2011                      3193  non-null values\n",
        "Median_Household_Income_2011                3193  non-null values\n",
        "Med_HH_Income_Percent_of_StateTotal_2011    3193  non-null values\n",
        "GEO_ID                                      3193  non-null values\n",
        "dtypes: float64(6), object(4)"
       ]
      }
     ],
     "prompt_number": 59
    },
    {
     "cell_type": "code",
     "collapsed": false,
     "input": [
      "map_osm = folium.Map(location=[40, -99], zoom_start=4)"
     ],
     "language": "python",
     "metadata": {},
     "outputs": [],
     "prompt_number": 4
    },
    {
     "cell_type": "code",
     "collapsed": false,
     "input": [
      "#Function that shows the map - call this functionto redraw the map.\n",
      "def showmap(name):\n",
      "    sint = str(random.randint(0,10000))\n",
      "    out_file = name+\"_\"+sint+\".html\"\n",
      "    map_osm.create_map(path=out_file)\n",
      "    iframe = \"<iframe src=http://localhost:8015/%s width=1000 height=500></iframe>\"%out_file\n",
      "    print iframe\n",
      "    return HTML(iframe)\n",
      "\n",
      "def resetmap():\n",
      "    return folium.Map(location=[40, -99], zoom_start=4)\n",
      "\n",
      "map_osm = resetmap()\n",
      "showmap('map_0')"
     ],
     "language": "python",
     "metadata": {},
     "outputs": [
      {
       "output_type": "stream",
       "stream": "stdout",
       "text": [
        "<iframe src=http://localhost:8015/map_0_3104.html width=1000 height=500></iframe>\n"
       ]
      },
      {
       "html": [
        "<iframe src=http://localhost:8015/map_0_3104.html width=1000 height=500></iframe>"
       ],
       "metadata": {},
       "output_type": "pyout",
       "prompt_number": 5,
       "text": [
        "<IPython.core.display.HTML at 0x108fced50>"
       ]
      }
     ],
     "prompt_number": 5
    },
    {
     "cell_type": "heading",
     "level": 3,
     "metadata": {},
     "source": [
      "Add a simple marker and redraw the map"
     ]
    },
    {
     "cell_type": "code",
     "collapsed": true,
     "input": [
      "map_osm.simple_marker([40.3288, -118.6625], popup='Add popup text here.')\n",
      "showmap(\"map_p2\")"
     ],
     "language": "python",
     "metadata": {},
     "outputs": [
      {
       "output_type": "stream",
       "stream": "stdout",
       "text": [
        "<iframe src=http://localhost:8015/map_p2_2957.html width=1000 height=500></iframe>\n"
       ]
      },
      {
       "html": [
        "<iframe src=http://localhost:8015/map_p2_2957.html width=1000 height=500></iframe>"
       ],
       "metadata": {},
       "output_type": "pyout",
       "prompt_number": 6,
       "text": [
        "<IPython.core.display.HTML at 0x108e37510>"
       ]
      }
     ],
     "prompt_number": 6
    },
    {
     "cell_type": "heading",
     "level": 3,
     "metadata": {},
     "source": [
      "Add a polygon to the map (Phoenix)."
     ]
    },
    {
     "cell_type": "code",
     "collapsed": false,
     "input": [
      "map_osm.circle_marker(location=[33.45, -112.0667], radius=1500,\n",
      "                  popup='My Popup Info', line_color='#3186cc',\n",
      "                  fill_color='#3186cc', fill_opacity=0.2)\n",
      "showmap(\"map_p3\")"
     ],
     "language": "python",
     "metadata": {},
     "outputs": [
      {
       "output_type": "stream",
       "stream": "stdout",
       "text": [
        "<iframe src=http://localhost:8015/map_p3_2672.html width=1000 height=500></iframe>\n"
       ]
      },
      {
       "html": [
        "<iframe src=http://localhost:8015/map_p3_2672.html width=1000 height=500></iframe>"
       ],
       "metadata": {},
       "output_type": "pyout",
       "prompt_number": 7,
       "text": [
        "<IPython.core.display.HTML at 0x108e2f750>"
       ]
      }
     ],
     "prompt_number": 7
    },
    {
     "cell_type": "heading",
     "level": 3,
     "metadata": {},
     "source": [
      "Choropleth map (remove the old markers first)"
     ]
    },
    {
     "cell_type": "code",
     "collapsed": false,
     "input": [
      "map_osm = resetmap()\n",
      "import pandas as pd\n",
      "\n",
      "#Grab the geojson from github\n",
      "county_geo = r'us_counties_20m_topo.json'\n",
      "\n",
      "county_data = 'https://raw.github.com/wrobstory/folium/master/examples/data/us_county_data.csv'\n",
      "\n",
      "\n",
      "\n",
      "map_osm.geo_json(geo_path=county_geo, data_out='data2.json', data=df,\n",
      "               columns=['GEO_ID', 'Unemployment_rate_2011'],\n",
      "               key_on='feature.id',\n",
      "               threshold_scale=[0, 5, 7, 9, 11, 13],\n",
      "               fill_color='YlGnBu', line_opacity=0.3,\n",
      "               legend_name='Unemployment Rate 2011 (%)',\n",
      "               topojson='objects.us_counties_20m')\n",
      "\n",
      "showmap(\"map_p4\")"
     ],
     "language": "python",
     "metadata": {},
     "outputs": [
      {
       "output_type": "stream",
       "stream": "stdout",
       "text": [
        "<iframe src=http://localhost:8015/map_p4_4248.html width=1000 height=500></iframe>\n"
       ]
      },
      {
       "html": [
        "<iframe src=http://localhost:8015/map_p4_4248.html width=1000 height=500></iframe>"
       ],
       "metadata": {},
       "output_type": "pyout",
       "prompt_number": 8,
       "text": [
        "<IPython.core.display.HTML at 0x10a189650>"
       ]
      }
     ],
     "prompt_number": 8
    },
    {
     "cell_type": "code",
     "collapsed": false,
     "input": [
      "df.Unemployment_rate_2011"
     ],
     "language": "python",
     "metadata": {},
     "outputs": [
      {
       "metadata": {},
       "output_type": "pyout",
       "prompt_number": 9,
       "text": [
        "1      9.0\n",
        "2      8.0\n",
        "3      8.1\n",
        "4     11.4\n",
        "5      9.9\n",
        "6      8.3\n",
        "7     15.3\n",
        "8     11.6\n",
        "9      9.2\n",
        "10    11.4\n",
        "11     8.7\n",
        "12     8.6\n",
        "13    11.4\n",
        "14    15.2\n",
        "15    11.8\n",
        "...\n",
        "3182    5.1\n",
        "3183    7.1\n",
        "3184    6.7\n",
        "3185    8.3\n",
        "3186    5.9\n",
        "3187    4.7\n",
        "3188    6.1\n",
        "3189    5.9\n",
        "3190    6.9\n",
        "3191    3.5\n",
        "3192    5.1\n",
        "3193    7.6\n",
        "3194    5.8\n",
        "3195    5.8\n",
        "3196    5.7\n",
        "Name: Unemployment_rate_2011, Length: 3193, dtype: float64"
       ]
      }
     ],
     "prompt_number": 9
    },
    {
     "cell_type": "code",
     "collapsed": false,
     "input": [
      "y = df.Unemployment_rate_2011"
     ],
     "language": "python",
     "metadata": {},
     "outputs": [],
     "prompt_number": 10
    },
    {
     "cell_type": "code",
     "collapsed": false,
     "input": [
      "import pysal as ps"
     ],
     "language": "python",
     "metadata": {},
     "outputs": [],
     "prompt_number": 11
    },
    {
     "cell_type": "code",
     "collapsed": false,
     "input": [
      "equal_intervals = ps.Equal_Interval(y, 5)"
     ],
     "language": "python",
     "metadata": {},
     "outputs": [],
     "prompt_number": 12
    },
    {
     "cell_type": "code",
     "collapsed": false,
     "input": [
      "equal_intervals.bins"
     ],
     "language": "python",
     "metadata": {},
     "outputs": [
      {
       "metadata": {},
       "output_type": "pyout",
       "prompt_number": 13,
       "text": [
        "array([  6.82,  12.54,  18.26,  23.98,  29.7 ])"
       ]
      }
     ],
     "prompt_number": 13
    },
    {
     "cell_type": "code",
     "collapsed": false,
     "input": [
      "y.max()"
     ],
     "language": "python",
     "metadata": {},
     "outputs": [
      {
       "metadata": {},
       "output_type": "pyout",
       "prompt_number": 14,
       "text": [
        "29.699999999999999"
       ]
      }
     ],
     "prompt_number": 14
    },
    {
     "cell_type": "code",
     "collapsed": false,
     "input": [
      "bins = equal_intervals.bins.tolist()"
     ],
     "language": "python",
     "metadata": {},
     "outputs": [],
     "prompt_number": 15
    },
    {
     "cell_type": "code",
     "collapsed": false,
     "input": [
      "bins"
     ],
     "language": "python",
     "metadata": {},
     "outputs": [
      {
       "metadata": {},
       "output_type": "pyout",
       "prompt_number": 16,
       "text": [
        "[6.82, 12.54, 18.259999999999998, 23.979999999999997, 29.7]"
       ]
      }
     ],
     "prompt_number": 16
    },
    {
     "cell_type": "raw",
     "metadata": {},
     "source": [
      "Note that the classifier in PySAL give the upper bounds for each of the 5 classes. In folium the last upper bound is not reported in the legend so we will slice the bin to omit it when rebuilding the map"
     ]
    },
    {
     "cell_type": "code",
     "collapsed": false,
     "input": [
      "map_osm = resetmap()\n",
      "import pandas as pd\n",
      "\n",
      "#Grab the geojson from github\n",
      "county_geo = r'us_counties_20m_topo.json'\n",
      "\n",
      "county_data = 'https://raw.github.com/wrobstory/folium/master/examples/data/us_county_data.csv'\n",
      "\n",
      "df = pd.read_csv(county_data, na_values=[' '])\n",
      "df['FIPS_Code'] = df['FIPS_Code'].astype(str)\n",
      "\n",
      "def set_id(fips):\n",
      "    '''Modify FIPS code to match GeoJSON property'''\n",
      "    if fips == '0':\n",
      "        return None\n",
      "    elif len(fips) <= 4:\n",
      "        return ''.join(['0500000US0', fips])\n",
      "    else:\n",
      "        return ''.join(['0500000US', fips])\n",
      "\n",
      "#Apply set_id, drop NaN\n",
      "df['GEO_ID'] = df['FIPS_Code'].apply(set_id)\n",
      "df = df.dropna()\n",
      "\n",
      "map_osm.geo_json(geo_path=county_geo, data_out='data2.json', data=df,\n",
      "               columns=['GEO_ID', 'Unemployment_rate_2011'],\n",
      "               key_on='feature.id',\n",
      "               threshold_scale=bins[:-1],  # here is where we slice\n",
      "               fill_color='YlGnBu', line_opacity=0.3,\n",
      "               legend_name='Unemployment Rate 2011 (%), Equal Interval', # and let's change the legend to identify the scheme\n",
      "               topojson='objects.us_counties_20m')\n",
      "\n",
      "showmap(\"map_p5\")"
     ],
     "language": "python",
     "metadata": {},
     "outputs": [
      {
       "output_type": "stream",
       "stream": "stdout",
       "text": [
        "<iframe src=http://localhost:8015/map_p5_1778.html width=1000 height=500></iframe>\n"
       ]
      },
      {
       "html": [
        "<iframe src=http://localhost:8015/map_p5_1778.html width=1000 height=500></iframe>"
       ],
       "metadata": {},
       "output_type": "pyout",
       "prompt_number": 17,
       "text": [
        "<IPython.core.display.HTML at 0x10a2191d0>"
       ]
      }
     ],
     "prompt_number": 17
    },
    {
     "cell_type": "code",
     "collapsed": false,
     "input": [],
     "language": "python",
     "metadata": {},
     "outputs": [],
     "prompt_number": 17
    },
    {
     "cell_type": "code",
     "collapsed": false,
     "input": [
      "quintiles = ps.Quantiles(y, 5)"
     ],
     "language": "python",
     "metadata": {},
     "outputs": [],
     "prompt_number": 18
    },
    {
     "cell_type": "code",
     "collapsed": false,
     "input": [
      "quintiles.bins"
     ],
     "language": "python",
     "metadata": {},
     "outputs": [
      {
       "metadata": {},
       "output_type": "pyout",
       "prompt_number": 19,
       "text": [
        "array([  6.1,   7.7,   9.1,  10.8,  29.7])"
       ]
      }
     ],
     "prompt_number": 19
    },
    {
     "cell_type": "code",
     "collapsed": false,
     "input": [
      "bins = quintiles.bins.tolist()"
     ],
     "language": "python",
     "metadata": {},
     "outputs": [],
     "prompt_number": 20
    },
    {
     "cell_type": "code",
     "collapsed": false,
     "input": [],
     "language": "python",
     "metadata": {},
     "outputs": [],
     "prompt_number": 20
    },
    {
     "cell_type": "code",
     "collapsed": false,
     "input": [
      "map_osm = resetmap()\n",
      "import pandas as pd\n",
      "\n",
      "#Grab the geojson from github\n",
      "county_geo = r'us_counties_20m_topo.json'\n",
      "\n",
      "county_data = 'https://raw.github.com/wrobstory/folium/master/examples/data/us_county_data.csv'\n",
      "\n",
      "df = pd.read_csv(county_data, na_values=[' '])\n",
      "df['FIPS_Code'] = df['FIPS_Code'].astype(str)\n",
      "\n",
      "def set_id(fips):\n",
      "    '''Modify FIPS code to match GeoJSON property'''\n",
      "    if fips == '0':\n",
      "        return None\n",
      "    elif len(fips) <= 4:\n",
      "        return ''.join(['0500000US0', fips])\n",
      "    else:\n",
      "        return ''.join(['0500000US', fips])\n",
      "\n",
      "#Apply set_id, drop NaN\n",
      "df['GEO_ID'] = df['FIPS_Code'].apply(set_id)\n",
      "df = df.dropna()\n",
      "\n",
      "map_osm.geo_json(geo_path=county_geo, data_out='data2.json', data=df,\n",
      "               columns=['GEO_ID', 'Unemployment_rate_2011'],\n",
      "               key_on='feature.id',\n",
      "               threshold_scale=bins[:-1],\n",
      "               fill_color='YlGnBu', line_opacity=0.3,\n",
      "               legend_name='Unemployment Rate 2011 (%), Quintiles',\n",
      "               topojson='objects.us_counties_20m')\n",
      "\n",
      "showmap(\"map_p2\")"
     ],
     "language": "python",
     "metadata": {},
     "outputs": [
      {
       "output_type": "stream",
       "stream": "stdout",
       "text": [
        "<iframe src=http://localhost:8015/map_p2_2608.html width=1000 height=500></iframe>\n"
       ]
      },
      {
       "html": [
        "<iframe src=http://localhost:8015/map_p2_2608.html width=1000 height=500></iframe>"
       ],
       "metadata": {},
       "output_type": "pyout",
       "prompt_number": 21,
       "text": [
        "<IPython.core.display.HTML at 0x10b93dfd0>"
       ]
      }
     ],
     "prompt_number": 21
    },
    {
     "cell_type": "heading",
     "level": 2,
     "metadata": {},
     "source": [
      "Maximum Breaks"
     ]
    },
    {
     "cell_type": "code",
     "collapsed": false,
     "input": [
      "import numpy as np\n",
      "ya = np.array(y.tolist())"
     ],
     "language": "python",
     "metadata": {},
     "outputs": [],
     "prompt_number": 48
    },
    {
     "cell_type": "code",
     "collapsed": false,
     "input": [
      "mb = ps.Maximum_Breaks(ya,5)"
     ],
     "language": "python",
     "metadata": {},
     "outputs": [],
     "prompt_number": 49
    },
    {
     "cell_type": "code",
     "collapsed": false,
     "input": [
      "bins = mb.bins.tolist()"
     ],
     "language": "python",
     "metadata": {},
     "outputs": [],
     "prompt_number": 50
    },
    {
     "cell_type": "code",
     "collapsed": false,
     "input": [
      "map_osm = resetmap()\n",
      "import pandas as pd\n",
      "\n",
      "#Grab the geojson from github\n",
      "county_geo = r'us_counties_20m_topo.json'\n",
      "\n",
      "county_data = 'https://raw.github.com/wrobstory/folium/master/examples/data/us_county_data.csv'\n",
      "\n",
      "df = pd.read_csv(county_data, na_values=[' '])\n",
      "df['FIPS_Code'] = df['FIPS_Code'].astype(str)\n",
      "\n",
      "def set_id(fips):\n",
      "    '''Modify FIPS code to match GeoJSON property'''\n",
      "    if fips == '0':\n",
      "        return None\n",
      "    elif len(fips) <= 4:\n",
      "        return ''.join(['0500000US0', fips])\n",
      "    else:\n",
      "        return ''.join(['0500000US', fips])\n",
      "\n",
      "#Apply set_id, drop NaN\n",
      "df['GEO_ID'] = df['FIPS_Code'].apply(set_id)\n",
      "df = df.dropna()\n",
      "\n",
      "map_osm.geo_json(geo_path=county_geo, data_out='data2.json', data=df,\n",
      "               columns=['GEO_ID', 'Unemployment_rate_2011'],\n",
      "               key_on='feature.id',\n",
      "               threshold_scale=bins[:-1],\n",
      "               fill_color='YlGnBu', line_opacity=0.3,\n",
      "               legend_name='Unemployment Rate 2011 (%), Maximum Breaks',\n",
      "               topojson='objects.us_counties_20m')\n",
      "\n",
      "showmap(\"map_p6\")"
     ],
     "language": "python",
     "metadata": {},
     "outputs": [
      {
       "output_type": "stream",
       "stream": "stdout",
       "text": [
        "<iframe src=http://localhost:8015/map_p6_4121.html width=1000 height=500></iframe>\n"
       ]
      },
      {
       "html": [
        "<iframe src=http://localhost:8015/map_p6_4121.html width=1000 height=500></iframe>"
       ],
       "metadata": {},
       "output_type": "pyout",
       "prompt_number": 51,
       "text": [
        "<IPython.core.display.HTML at 0x104b9d6d0>"
       ]
      }
     ],
     "prompt_number": 51
    },
    {
     "cell_type": "code",
     "collapsed": false,
     "input": [
      "bins"
     ],
     "language": "python",
     "metadata": {},
     "outputs": [
      {
       "metadata": {},
       "output_type": "pyout",
       "prompt_number": 52,
       "text": [
        "[1.45, 18.049999999999997, 23.75, 28.4, 29.7]"
       ]
      }
     ],
     "prompt_number": 52
    },
    {
     "cell_type": "code",
     "collapsed": false,
     "input": [
      "ya.min()"
     ],
     "language": "python",
     "metadata": {},
     "outputs": [
      {
       "metadata": {},
       "output_type": "pyout",
       "prompt_number": 53,
       "text": [
        "1.1000000000000001"
       ]
      }
     ],
     "prompt_number": 53
    },
    {
     "cell_type": "code",
     "collapsed": false,
     "input": [
      "st = ps.Std_Mean(ya)"
     ],
     "language": "python",
     "metadata": {},
     "outputs": [],
     "prompt_number": 54
    },
    {
     "cell_type": "code",
     "collapsed": false,
     "input": [
      "bins = st.bins.tolist()"
     ],
     "language": "python",
     "metadata": {},
     "outputs": [],
     "prompt_number": 55
    },
    {
     "cell_type": "code",
     "collapsed": false,
     "input": [
      "bins"
     ],
     "language": "python",
     "metadata": {},
     "outputs": [
      {
       "metadata": {},
       "output_type": "pyout",
       "prompt_number": 56,
       "text": [
        "[2.6142374428988413,\n",
        " 5.590582548571254,\n",
        " 11.54327275991608,\n",
        " 14.519617865588494,\n",
        " 29.7]"
       ]
      }
     ],
     "prompt_number": 56
    },
    {
     "cell_type": "code",
     "collapsed": false,
     "input": [
      "map_osm = resetmap()\n",
      "import pandas as pd\n",
      "\n",
      "#Grab the geojson from github\n",
      "county_geo = r'us_counties_20m_topo.json'\n",
      "\n",
      "county_data = 'https://raw.github.com/wrobstory/folium/master/examples/data/us_county_data.csv'\n",
      "\n",
      "df = pd.read_csv(county_data, na_values=[' '])\n",
      "df['FIPS_Code'] = df['FIPS_Code'].astype(str)\n",
      "\n",
      "def set_id(fips):\n",
      "    '''Modify FIPS code to match GeoJSON property'''\n",
      "    if fips == '0':\n",
      "        return None\n",
      "    elif len(fips) <= 4:\n",
      "        return ''.join(['0500000US0', fips])\n",
      "    else:\n",
      "        return ''.join(['0500000US', fips])\n",
      "\n",
      "#Apply set_id, drop NaN\n",
      "df['GEO_ID'] = df['FIPS_Code'].apply(set_id)\n",
      "df = df.dropna()\n",
      "\n",
      "map_osm.geo_json(geo_path=county_geo, data_out='data2.json', data=df,\n",
      "               columns=['GEO_ID', 'Unemployment_rate_2011'],\n",
      "               key_on='feature.id',\n",
      "               threshold_scale=bins[:-1],\n",
      "               fill_color='YlGnBu', line_opacity=0.3,\n",
      "               legend_name='Unemployment Rate 2011 (%), Mean-Standard Deviation',\n",
      "               topojson='objects.us_counties_20m')\n",
      "\n",
      "showmap(\"map_p7\")"
     ],
     "language": "python",
     "metadata": {},
     "outputs": [
      {
       "output_type": "stream",
       "stream": "stdout",
       "text": [
        "<iframe src=http://localhost:8015/map_p7_1166.html width=1000 height=500></iframe>\n"
       ]
      },
      {
       "html": [
        "<iframe src=http://localhost:8015/map_p7_1166.html width=1000 height=500></iframe>"
       ],
       "metadata": {},
       "output_type": "pyout",
       "prompt_number": 32,
       "text": [
        "<IPython.core.display.HTML at 0x10bd4ff50>"
       ]
      }
     ],
     "prompt_number": 32
    },
    {
     "cell_type": "code",
     "collapsed": false,
     "input": [
      "# This code will work with PySAL < 1.7dev\n",
      "jc = ps.Jenks_Caspall(ya,5)"
     ],
     "language": "python",
     "metadata": {},
     "outputs": [],
     "prompt_number": 33
    },
    {
     "cell_type": "code",
     "collapsed": false,
     "input": [
      "bins = jc.bins.tolist()"
     ],
     "language": "python",
     "metadata": {},
     "outputs": [],
     "prompt_number": 34
    },
    {
     "cell_type": "code",
     "collapsed": false,
     "input": [
      "bins"
     ],
     "language": "python",
     "metadata": {},
     "outputs": [
      {
       "metadata": {},
       "output_type": "pyout",
       "prompt_number": 35,
       "text": [
        "[5.6, 7.6, 9.2, 11.5, 29.7]"
       ]
      }
     ],
     "prompt_number": 35
    },
    {
     "cell_type": "code",
     "collapsed": false,
     "input": [
      "try:\n",
      "    tmp = []\n",
      "    for b in bins:\n",
      "        tmp.extend(b)\n",
      "    bins = tmp\n",
      "except:\n",
      "    # Running PySAL 1.7dev\n",
      "    bins = jc.bins.tolist()\n",
      "    "
     ],
     "language": "python",
     "metadata": {},
     "outputs": [],
     "prompt_number": 36
    },
    {
     "cell_type": "code",
     "collapsed": false,
     "input": [
      "map_osm = resetmap()\n",
      "import pandas as pd\n",
      "\n",
      "#Grab the geojson from github\n",
      "county_geo = r'us_counties_20m_topo.json'\n",
      "\n",
      "county_data = 'https://raw.github.com/wrobstory/folium/master/examples/data/us_county_data.csv'\n",
      "\n",
      "df = pd.read_csv(county_data, na_values=[' '])\n",
      "df['FIPS_Code'] = df['FIPS_Code'].astype(str)\n",
      "\n",
      "def set_id(fips):\n",
      "    '''Modify FIPS code to match GeoJSON property'''\n",
      "    if fips == '0':\n",
      "        return None\n",
      "    elif len(fips) <= 4:\n",
      "        return ''.join(['0500000US0', fips])\n",
      "    else:\n",
      "        return ''.join(['0500000US', fips])\n",
      "\n",
      "#Apply set_id, drop NaN\n",
      "df['GEO_ID'] = df['FIPS_Code'].apply(set_id)\n",
      "df = df.dropna()\n",
      "\n",
      "map_osm.geo_json(geo_path=county_geo, data_out='data2.json', data=df,\n",
      "               columns=['GEO_ID', 'Unemployment_rate_2011'],\n",
      "               key_on='feature.id',\n",
      "               threshold_scale=bins[:-1],\n",
      "               fill_color='YlGnBu', line_opacity=0.3,\n",
      "               legend_name='Unemployment Rate 2011 (%), Jenks-Caspall',\n",
      "               topojson='objects.us_counties_20m')\n",
      "\n",
      "showmap(\"map_p8\")"
     ],
     "language": "python",
     "metadata": {},
     "outputs": [
      {
       "output_type": "stream",
       "stream": "stdout",
       "text": [
        "<iframe src=http://localhost:8015/map_p8_6024.html width=1000 height=500></iframe>\n"
       ]
      },
      {
       "html": [
        "<iframe src=http://localhost:8015/map_p8_6024.html width=1000 height=500></iframe>"
       ],
       "metadata": {},
       "output_type": "pyout",
       "prompt_number": 37,
       "text": [
        "<IPython.core.display.HTML at 0x10bd71450>"
       ]
      }
     ],
     "prompt_number": 37
    },
    {
     "cell_type": "code",
     "collapsed": false,
     "input": [
      "fj = ps.Fisher_Jenks(ya,5)"
     ],
     "language": "python",
     "metadata": {},
     "outputs": [],
     "prompt_number": 38
    },
    {
     "cell_type": "code",
     "collapsed": false,
     "input": [
      "bins = fj.bins"
     ],
     "language": "python",
     "metadata": {},
     "outputs": [],
     "prompt_number": 39
    },
    {
     "cell_type": "code",
     "collapsed": false,
     "input": [
      "bins"
     ],
     "language": "python",
     "metadata": {},
     "outputs": [
      {
       "metadata": {},
       "output_type": "pyout",
       "prompt_number": 40,
       "text": [
        "[5.9000000000000004,\n",
        " 8.4000000000000004,\n",
        " 10.800000000000001,\n",
        " 14.199999999999999,\n",
        " 29.7]"
       ]
      }
     ],
     "prompt_number": 40
    },
    {
     "cell_type": "code",
     "collapsed": false,
     "input": [
      "fj.tss"
     ],
     "language": "python",
     "metadata": {},
     "outputs": [
      {
       "metadata": {},
       "output_type": "pyout",
       "prompt_number": 41,
       "text": [
        "2453.3284876737853"
       ]
      }
     ],
     "prompt_number": 41
    },
    {
     "cell_type": "code",
     "collapsed": false,
     "input": [
      "jc.tss"
     ],
     "language": "python",
     "metadata": {},
     "outputs": [
      {
       "metadata": {},
       "output_type": "pyout",
       "prompt_number": 42,
       "text": [
        "3107.9298204602819"
       ]
      }
     ],
     "prompt_number": 42
    },
    {
     "cell_type": "code",
     "collapsed": false,
     "input": [
      "map_osm = resetmap()\n",
      "import pandas as pd\n",
      "\n",
      "#Grab the geojson from github\n",
      "county_geo = r'us_counties_20m_topo.json'\n",
      "\n",
      "county_data = 'https://raw.github.com/wrobstory/folium/master/examples/data/us_county_data.csv'\n",
      "\n",
      "df = pd.read_csv(county_data, na_values=[' '])\n",
      "df['FIPS_Code'] = df['FIPS_Code'].astype(str)\n",
      "\n",
      "def set_id(fips):\n",
      "    '''Modify FIPS code to match GeoJSON property'''\n",
      "    if fips == '0':\n",
      "        return None\n",
      "    elif len(fips) <= 4:\n",
      "        return ''.join(['0500000US0', fips])\n",
      "    else:\n",
      "        return ''.join(['0500000US', fips])\n",
      "\n",
      "#Apply set_id, drop NaN\n",
      "df['GEO_ID'] = df['FIPS_Code'].apply(set_id)\n",
      "df = df.dropna()\n",
      "\n",
      "map_osm.geo_json(geo_path=county_geo, data_out='data2.json', data=df,\n",
      "               columns=['GEO_ID', 'Unemployment_rate_2011'],\n",
      "               key_on='feature.id',\n",
      "               threshold_scale=bins[:-1],\n",
      "               fill_color='YlGnBu', line_opacity=0.3,\n",
      "               legend_name='Unemployment Rate 2011 (%), Fisher-Jenks',\n",
      "               topojson='objects.us_counties_20m')\n",
      "\n",
      "showmap(\"map_p9\")"
     ],
     "language": "python",
     "metadata": {},
     "outputs": [
      {
       "output_type": "stream",
       "stream": "stdout",
       "text": [
        "<iframe src=http://localhost:8015/map_p9_1679.html width=1000 height=500></iframe>\n"
       ]
      },
      {
       "html": [
        "<iframe src=http://localhost:8015/map_p9_1679.html width=1000 height=500></iframe>"
       ],
       "metadata": {},
       "output_type": "pyout",
       "prompt_number": 43,
       "text": [
        "<IPython.core.display.HTML at 0x104b89d50>"
       ]
      }
     ],
     "prompt_number": 43
    },
    {
     "cell_type": "code",
     "collapsed": false,
     "input": [
      "# FJ Sampling"
     ],
     "language": "python",
     "metadata": {},
     "outputs": [],
     "prompt_number": 44
    },
    {
     "cell_type": "code",
     "collapsed": false,
     "input": [
      "fjs = ps.esda.mapclassify.Fisher_Jenks_Sampled(ya)"
     ],
     "language": "python",
     "metadata": {},
     "outputs": [],
     "prompt_number": 45
    },
    {
     "cell_type": "code",
     "collapsed": false,
     "input": [
      "fjs.bins"
     ],
     "language": "python",
     "metadata": {},
     "outputs": [
      {
       "metadata": {},
       "output_type": "pyout",
       "prompt_number": 46,
       "text": [
        "[6.2999999999999998, 9.0999999999999996, 12.4, 18.699999999999999, 29.7]"
       ]
      }
     ],
     "prompt_number": 46
    },
    {
     "cell_type": "code",
     "collapsed": false,
     "input": [
      "map_osm = resetmap()\n",
      "import pandas as pd\n",
      "\n",
      "#Grab the geojson from github\n",
      "county_geo = r'us_counties_20m_topo.json'\n",
      "\n",
      "county_data = 'https://raw.github.com/wrobstory/folium/master/examples/data/us_county_data.csv'\n",
      "\n",
      "df = pd.read_csv(county_data, na_values=[' '])\n",
      "df['FIPS_Code'] = df['FIPS_Code'].astype(str)\n",
      "\n",
      "def set_id(fips):\n",
      "    '''Modify FIPS code to match GeoJSON property'''\n",
      "    if fips == '0':\n",
      "        return None\n",
      "    elif len(fips) <= 4:\n",
      "        return ''.join(['0500000US0', fips])\n",
      "    else:\n",
      "        return ''.join(['0500000US', fips])\n",
      "\n",
      "#Apply set_id, drop NaN\n",
      "df['GEO_ID'] = df['FIPS_Code'].apply(set_id)\n",
      "df = df.dropna()\n",
      "\n",
      "map_osm.geo_json(geo_path=county_geo, data_out='data2.json', data=df,\n",
      "               columns=['GEO_ID', 'Unemployment_rate_2011'],\n",
      "               key_on='feature.id',\n",
      "               threshold_scale=fjs.bins[:-1],\n",
      "               fill_color='YlGnBu', line_opacity=0.3,\n",
      "               legend_name='Unemployment Rate 2011 (%), Fisher-Jenks Sampled',\n",
      "               topojson='objects.us_counties_20m')\n",
      "\n",
      "showmap(\"map_p9\")"
     ],
     "language": "python",
     "metadata": {},
     "outputs": [
      {
       "output_type": "stream",
       "stream": "stdout",
       "text": [
        "<iframe src=http://localhost:8015/map_p9_3071.html width=1000 height=500></iframe>\n"
       ]
      },
      {
       "html": [
        "<iframe src=http://localhost:8015/map_p9_3071.html width=1000 height=500></iframe>"
       ],
       "metadata": {},
       "output_type": "pyout",
       "prompt_number": 47,
       "text": [
        "<IPython.core.display.HTML at 0x10bd749d0>"
       ]
      }
     ],
     "prompt_number": 47
    },
    {
     "cell_type": "code",
     "collapsed": false,
     "input": [
      "fjs.tss"
     ],
     "language": "python",
     "metadata": {},
     "outputs": [
      {
       "metadata": {},
       "output_type": "pyout",
       "prompt_number": 54,
       "text": [
        "3178.4134406689604"
       ]
      }
     ],
     "prompt_number": 54
    },
    {
     "cell_type": "code",
     "collapsed": false,
     "input": [
      "fj.tss"
     ],
     "language": "python",
     "metadata": {},
     "outputs": [
      {
       "metadata": {},
       "output_type": "pyout",
       "prompt_number": 55,
       "text": [
        "2453.3284876737853"
       ]
      }
     ],
     "prompt_number": 55
    },
    {
     "cell_type": "code",
     "collapsed": false,
     "input": [],
     "language": "python",
     "metadata": {},
     "outputs": []
    }
   ],
   "metadata": {}
  }
 ]
}