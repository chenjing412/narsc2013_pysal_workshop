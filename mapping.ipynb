{
 "metadata": {
  "name": ""
 },
 "nbformat": 3,
 "nbformat_minor": 0,
 "worksheets": [
  {
   "cells": [
    {
     "cell_type": "markdown",
     "metadata": {},
     "source": [
      "# Mapping\n",
      "\n",
      "- Shapefile to geojson\n",
      "- geojson to folium\n",
      "- base layer\n",
      "- choropleth"
     ]
    },
    {
     "cell_type": "code",
     "collapsed": false,
     "input": [
      "import os\n",
      "import json\n",
      "\n",
      "def shapefile_to_json(shp_path=None, json_out=None): \n",
      "    '''Write a shapefile to geoJSON via Ogre\n",
      "    \n",
      "    Make a HTTP POST request to the Ogre converter: \n",
      "    http://ogre.adc4gis.com/ to transform shapefiles\n",
      "    to geoJSON for Vincent.\n",
      "    \n",
      "    Parameters: \n",
      "    -----------\n",
      "    shp_path: string, default None\n",
      "        Path to zipped shapefiles. Must contain .shp, .dbf, and .shx. \n",
      "        .prj is optional\n",
      "    json_out: string, default None\n",
      "        Path to write geoJSON output. If None, will default to same\n",
      "        path as shp_path  \n",
      "        \n",
      "    Examples: \n",
      "    ---------\n",
      "    >>>(shp_path=r'countries.zip')      \n",
      "    \n",
      "    '''\n",
      "    import requests\n",
      "    url = r'http://ogre.adc4gis.com/convert'\n",
      "    shp_data = {'upload': open(shp_path, 'rb')}\n",
      "    print('Calling Ogre to perform shapefile to geoJSON conversion...')\n",
      "    try: \n",
      "        r = requests.post(url, files=shp_data)\n",
      "    except:\n",
      "        print(\"There was an error with the HTTP request\")\n",
      "        raise\n",
      "    r.raise_for_status()\n",
      "    if json_out: \n",
      "        path = '.'.join([name, 'json'])\n",
      "    else: \n",
      "        dir, zip = os.path.split(shp_path)\n",
      "        geoJSON = '.'.join([zip.split('.')[0], 'json'])\n",
      "        path = '/'.join([dir, geoJSON])\n",
      "        path = geoJSON\n",
      "    print('Writing to geoJSON. This may take some time if your shapefile'\n",
      "          ' is high resolution.')\n",
      "    with open(path, 'w') as f: \n",
      "        json.dump(r.json(), f, sort_keys=True, indent=4,\n",
      "                      separators=(',', ': '))\n",
      "    print \"GeoJSON file created at: %s\"%path"
     ],
     "language": "python",
     "metadata": {},
     "outputs": [],
     "prompt_number": 6
    },
    {
     "cell_type": "code",
     "collapsed": false,
     "input": [
      "zip_file = r'data/houston_hom.zip'"
     ],
     "language": "python",
     "metadata": {},
     "outputs": [],
     "prompt_number": 7
    },
    {
     "cell_type": "code",
     "collapsed": false,
     "input": [
      "shapefile_to_json(shp_path=zip_file)"
     ],
     "language": "python",
     "metadata": {},
     "outputs": [
      {
       "output_type": "stream",
       "stream": "stdout",
       "text": [
        "Calling Ogre to perform shapefile to geoJSON conversion...\n",
        "Writing to geoJSON. This may take some time if your shapefile is high resolution."
       ]
      },
      {
       "output_type": "stream",
       "stream": "stdout",
       "text": [
        "\n",
        "GeoJSON file created at: houston_hom.json\n"
       ]
      }
     ],
     "prompt_number": 8
    },
    {
     "cell_type": "code",
     "collapsed": false,
     "input": [
      "!ls"
     ],
     "language": "python",
     "metadata": {},
     "outputs": [
      {
       "output_type": "stream",
       "stream": "stdout",
       "text": [
        "00_notebook_intro.ipynb          houston_hom.json\r\n",
        "01_spatial_data_processing.ipynb mapping.ipynb\r\n",
        "README.md                        narsc_pysal_workshop.mm\r\n",
        "\u001b[1m\u001b[36mdata\u001b[m\u001b[m\r\n"
       ]
      }
     ],
     "prompt_number": 9
    },
    {
     "cell_type": "markdown",
     "metadata": {},
     "source": [
      "## Base layer for Houston"
     ]
    },
    {
     "cell_type": "code",
     "collapsed": false,
     "input": [
      "import folium"
     ],
     "language": "python",
     "metadata": {},
     "outputs": [],
     "prompt_number": 10
    },
    {
     "cell_type": "code",
     "collapsed": false,
     "input": [
      "map_osm = folium.Map(location=[29.7628, -95.3831])"
     ],
     "language": "python",
     "metadata": {},
     "outputs": [],
     "prompt_number": 11
    },
    {
     "cell_type": "code",
     "collapsed": false,
     "input": [
      "map_osm.geo_json(geo_path = 'houston_hom.json')"
     ],
     "language": "python",
     "metadata": {},
     "outputs": [],
     "prompt_number": 12
    },
    {
     "cell_type": "code",
     "collapsed": false,
     "input": [
      "map_osm.create_map(path='houston_1.html')"
     ],
     "language": "python",
     "metadata": {},
     "outputs": [],
     "prompt_number": 13
    },
    {
     "cell_type": "code",
     "collapsed": false,
     "input": [
      "!ls"
     ],
     "language": "python",
     "metadata": {},
     "outputs": [
      {
       "output_type": "stream",
       "stream": "stdout",
       "text": [
        "00_notebook_intro.ipynb          houston_1.html\r\n",
        "01_spatial_data_processing.ipynb houston_hom.json\r\n",
        "README.md                        mapping.ipynb\r\n",
        "\u001b[1m\u001b[36mdata\u001b[m\u001b[m                             narsc_pysal_workshop.mm\r\n"
       ]
      }
     ],
     "prompt_number": 14
    },
    {
     "cell_type": "markdown",
     "metadata": {},
     "source": [
      "## Binding Attribute Data to the Map"
     ]
    },
    {
     "cell_type": "code",
     "collapsed": false,
     "input": [
      "import json\n",
      "\n",
      "f = open('houston_hom.json')\n",
      "q = json.load(f)\n",
      "f.close()"
     ],
     "language": "python",
     "metadata": {},
     "outputs": [],
     "prompt_number": 16
    },
    {
     "cell_type": "code",
     "collapsed": false,
     "input": [
      "q.keys()"
     ],
     "language": "python",
     "metadata": {},
     "outputs": [
      {
       "metadata": {},
       "output_type": "pyout",
       "prompt_number": 18,
       "text": [
        "[u'type', u'features']"
       ]
      }
     ],
     "prompt_number": 18
    },
    {
     "cell_type": "code",
     "collapsed": false,
     "input": [
      "features = q['features']\n",
      "len(features)"
     ],
     "language": "python",
     "metadata": {},
     "outputs": [
      {
       "metadata": {},
       "output_type": "pyout",
       "prompt_number": 21,
       "text": [
        "52"
       ]
      }
     ],
     "prompt_number": 21
    },
    {
     "cell_type": "code",
     "collapsed": false,
     "input": [
      "feature_0 = features[0]"
     ],
     "language": "python",
     "metadata": {},
     "outputs": [],
     "prompt_number": 22
    },
    {
     "cell_type": "code",
     "collapsed": false,
     "input": [
      "feature_0"
     ],
     "language": "python",
     "metadata": {},
     "outputs": [
      {
       "metadata": {},
       "output_type": "pyout",
       "prompt_number": 23,
       "text": [
        "{u'geometry': {u'coordinates': [[[-94.8736572265625, 31.531461715698242],\n",
        "    [-94.99932098388672, 31.438899993896484],\n",
        "    [-95.04229736328125, 31.44767189025879],\n",
        "    [-95.0577621459961, 31.46709632873535],\n",
        "    [-95.10272979736328, 31.478675842285156],\n",
        "    [-95.10697174072266, 31.48845863342285],\n",
        "    [-95.09854125976562, 31.51230812072754],\n",
        "    [-95.14065551757812, 31.553903579711914],\n",
        "    [-95.14339447021484, 31.5709285736084],\n",
        "    [-95.1769790649414, 31.585174560546875],\n",
        "    [-95.21736907958984, 31.57548713684082],\n",
        "    [-95.2446060180664, 31.57893180847168],\n",
        "    [-95.2643814086914, 31.590280532836914],\n",
        "    [-95.26704406738281, 31.599987030029297],\n",
        "    [-95.26516723632812, 31.62274932861328],\n",
        "    [-95.28523254394531, 31.638671875],\n",
        "    [-95.28710174560547, 31.68031883239746],\n",
        "    [-95.32638549804688, 31.718050003051758],\n",
        "    [-95.3399887084961, 31.71587562561035],\n",
        "    [-95.33739471435547, 31.732667922973633],\n",
        "    [-95.35965728759766, 31.729936599731445],\n",
        "    [-95.36175537109375, 31.749662399291992],\n",
        "    [-95.38658905029297, 31.758451461791992],\n",
        "    [-95.39559173583984, 31.799009323120117],\n",
        "    [-95.41224670410156, 31.828458786010742],\n",
        "    [-95.44046783447266, 31.84467887878418],\n",
        "    [-95.43470764160156, 31.870014190673828],\n",
        "    [-95.44039154052734, 31.893529891967773],\n",
        "    [-95.4254379272461, 31.92853355407715],\n",
        "    [-95.44953155517578, 31.951425552368164],\n",
        "    [-95.44985961914062, 31.983848571777344],\n",
        "    [-95.4260025024414, 32.013465881347656],\n",
        "    [-95.43390655517578, 32.02656936645508],\n",
        "    [-95.42477416992188, 32.044456481933594],\n",
        "    [-95.4306640625, 32.083492279052734],\n",
        "    [-95.46080017089844, 32.11528778076172],\n",
        "    [-95.46321105957031, 32.13957214355469],\n",
        "    [-94.98893737792969, 32.142765045166016],\n",
        "    [-94.9858169555664, 31.976444244384766],\n",
        "    [-94.97895812988281, 31.95650291442871],\n",
        "    [-94.98897552490234, 31.934574127197266],\n",
        "    [-94.98715209960938, 31.85137939453125],\n",
        "    [-94.97926330566406, 31.787538528442383],\n",
        "    [-94.93536376953125, 31.7650089263916],\n",
        "    [-94.93805694580078, 31.756450653076172],\n",
        "    [-94.9588623046875, 31.751449584960938],\n",
        "    [-94.96399688720703, 31.738433837890625],\n",
        "    [-94.945068359375, 31.653520584106445],\n",
        "    [-94.91583251953125, 31.57908821105957],\n",
        "    [-94.91024780273438, 31.573806762695312],\n",
        "    [-94.89395141601562, 31.576263427734375],\n",
        "    [-94.89144897460938, 31.547815322875977],\n",
        "    [-94.8736572265625, 31.531461715698242]]],\n",
        "  u'type': u'Polygon'},\n",
        " u'properties': {u'CNTY_FIPS': u'073',\n",
        "  u'COFIPS': 73.0,\n",
        "  u'FIPS': u'48073',\n",
        "  u'FIPSNO': 48073.0,\n",
        "  u'HC8187': 22,\n",
        "  u'HC8791': 15,\n",
        "  u'HC9195': 19,\n",
        "  u'HR8187': 7.90798,\n",
        "  u'HR8791': 7.325757,\n",
        "  u'HR9195': 9.253667,\n",
        "  u'NAME': u'Cherokee',\n",
        "  u'PE77': 3.033655,\n",
        "  u'PE82': 4.281802,\n",
        "  u'PE87': 4.352885,\n",
        "  u'PO8187': 278200,\n",
        "  u'PO8791': 204757,\n",
        "  u'PO9195': 205324,\n",
        "  u'RDAC80': 0.460853,\n",
        "  u'RDAC85': 0.660736,\n",
        "  u'RDAC90': 0.727508,\n",
        "  u'STATE_FIPS': u'48',\n",
        "  u'STATE_NAME': u'Texas',\n",
        "  u'STFIPS': 48.0},\n",
        " u'type': u'Feature'}"
       ]
      }
     ],
     "prompt_number": 23
    },
    {
     "cell_type": "code",
     "collapsed": false,
     "input": [],
     "language": "python",
     "metadata": {},
     "outputs": []
    },
    {
     "cell_type": "code",
     "collapsed": false,
     "input": [
      "import pandas as pd\n",
      "indices = []\n",
      "values = []\n",
      "for feature in features:\n",
      "    indices.append(str(feature['properties']['FIPS']))\n",
      "    values.append(feature['properties']['HR8187'])"
     ],
     "language": "python",
     "metadata": {},
     "outputs": [],
     "prompt_number": 20
    },
    {
     "cell_type": "code",
     "collapsed": false,
     "input": [
      "df = pd.DataFrame({'HR8187': values,\n",
      "                   'FIPS': indices} )"
     ],
     "language": "python",
     "metadata": {},
     "outputs": [],
     "prompt_number": 26
    },
    {
     "cell_type": "code",
     "collapsed": false,
     "input": [
      "\n",
      "map_osm = folium.Map(location=[29.7628, -95.3831], zoom_start=7,)\n",
      "map_osm.geo_json(geo_path='houston_hom.json',\n",
      "                 key_on='feature.properties.FIPS',\n",
      "                 data_out='data.json', data=df,\n",
      "                 columns=['FIPS','HR8187'],\n",
      "                 fill_color='YlGn', fill_opacity=0.7,\n",
      "                 line_opacity=0.2,\n",
      "                 legend_name='Homicide Rate HR8187')\n",
      "map_osm.create_map('homocide_1.html')"
     ],
     "language": "python",
     "metadata": {},
     "outputs": [],
     "prompt_number": 30
    },
    {
     "cell_type": "code",
     "collapsed": false,
     "input": [
      "y = np.array(df.HR8187.tolist())"
     ],
     "language": "python",
     "metadata": {},
     "outputs": [],
     "prompt_number": 31
    },
    {
     "cell_type": "code",
     "collapsed": false,
     "input": [
      "import pysal as ps"
     ],
     "language": "python",
     "metadata": {},
     "outputs": [],
     "prompt_number": 32
    },
    {
     "cell_type": "code",
     "collapsed": false,
     "input": [
      "max_breaks = ps.Maximum_Breaks(y, 5)"
     ],
     "language": "python",
     "metadata": {},
     "outputs": [],
     "prompt_number": 33
    },
    {
     "cell_type": "code",
     "collapsed": false,
     "input": [
      "bins = max_breaks.bins.tolist()"
     ],
     "language": "python",
     "metadata": {},
     "outputs": [],
     "prompt_number": 34
    },
    {
     "cell_type": "code",
     "collapsed": false,
     "input": [
      "\n",
      "map_osm = folium.Map(location=[29.7628, -95.3831], zoom_start=7,)\n",
      "map_osm.geo_json(geo_path='houston_hom.json',\n",
      "                 key_on='feature.properties.FIPS',\n",
      "                 data_out='data.json', data=df,\n",
      "                 columns=['FIPS','HR8187'],\n",
      "                 fill_color='YlGn', fill_opacity=0.7,\n",
      "                 line_opacity=0.2,\n",
      "                 threshold_scale=bins[:-1],\n",
      "                 legend_name='Homicide Rate HR8187 (Maximum Breaks)')\n",
      "map_osm.create_map('homocide_MB5.html')"
     ],
     "language": "python",
     "metadata": {},
     "outputs": [],
     "prompt_number": 35
    },
    {
     "cell_type": "code",
     "collapsed": false,
     "input": [
      "q5 = ps.Quantiles(y, 5).bins.tolist()"
     ],
     "language": "python",
     "metadata": {},
     "outputs": [],
     "prompt_number": 36
    },
    {
     "cell_type": "code",
     "collapsed": false,
     "input": [
      "\n",
      "map_osm = folium.Map(location=[29.7628, -95.3831], zoom_start=7,)\n",
      "map_osm.geo_json(geo_path='houston_hom.json',\n",
      "                 key_on='feature.properties.FIPS',\n",
      "                 data_out='data.json', data=df,\n",
      "                 columns=['FIPS','HR8187'],\n",
      "                 fill_color='YlGn', fill_opacity=0.7,\n",
      "                 line_opacity=0.2,\n",
      "                 threshold_scale=q5[:-1],\n",
      "                 legend_name='Homicide Rate HR8187 (Quintiles)')\n",
      "map_osm.create_map('homocide_q5.html')"
     ],
     "language": "python",
     "metadata": {},
     "outputs": [],
     "prompt_number": 37
    },
    {
     "cell_type": "code",
     "collapsed": false,
     "input": [
      "fj= ps.Fisher_Jenks(y, 5).bins"
     ],
     "language": "python",
     "metadata": {},
     "outputs": [],
     "prompt_number": 42
    },
    {
     "cell_type": "code",
     "collapsed": false,
     "input": [
      "map_osm = folium.Map(location=[29.7628, -95.3831], zoom_start=7,)\n",
      "map_osm.geo_json(geo_path='houston_hom.json',\n",
      "                 key_on='feature.properties.FIPS',\n",
      "                 data_out='data.json', data=df,\n",
      "                 columns=['FIPS','HR8187'],\n",
      "                 fill_color='YlGn', fill_opacity=0.7,\n",
      "                 line_opacity=0.2,\n",
      "                 threshold_scale=fj[:-1],\n",
      "                 legend_name='Homicide Rate HR8187 (Optimal)')\n",
      "map_osm.create_map('homocide_fj.html')"
     ],
     "language": "python",
     "metadata": {},
     "outputs": [],
     "prompt_number": 43
    },
    {
     "cell_type": "code",
     "collapsed": false,
     "input": [
      "w = ps.queen_from_shapefile('data/hou_hom.shp')"
     ],
     "language": "python",
     "metadata": {},
     "outputs": [],
     "prompt_number": 46
    },
    {
     "cell_type": "code",
     "collapsed": false,
     "input": [
      "w.n"
     ],
     "language": "python",
     "metadata": {},
     "outputs": [
      {
       "metadata": {},
       "output_type": "pyout",
       "prompt_number": 47,
       "text": [
        "52"
       ]
      }
     ],
     "prompt_number": 47
    },
    {
     "cell_type": "code",
     "collapsed": false,
     "input": [
      "w.transform = 'r'"
     ],
     "language": "python",
     "metadata": {},
     "outputs": [],
     "prompt_number": 48
    },
    {
     "cell_type": "code",
     "collapsed": false,
     "input": [
      "mi = ps.Moran(y,w)"
     ],
     "language": "python",
     "metadata": {},
     "outputs": [],
     "prompt_number": 49
    },
    {
     "cell_type": "code",
     "collapsed": false,
     "input": [
      "mi.p_norm"
     ],
     "language": "python",
     "metadata": {},
     "outputs": [
      {
       "metadata": {},
       "output_type": "pyout",
       "prompt_number": 50,
       "text": [
        "0.052974261322573102"
       ]
      }
     ],
     "prompt_number": 50
    },
    {
     "cell_type": "code",
     "collapsed": false,
     "input": [],
     "language": "python",
     "metadata": {},
     "outputs": []
    }
   ],
   "metadata": {}
  }
 ]
}