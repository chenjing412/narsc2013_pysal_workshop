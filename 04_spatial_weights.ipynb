{
 "metadata": {
  "name": ""
 },
 "nbformat": 3,
 "nbformat_minor": 0,
 "worksheets": [
  {
   "cells": [
    {
     "cell_type": "code",
     "collapsed": false,
     "input": [
      "import pysal as ps\n",
      "import numpy as np"
     ],
     "language": "python",
     "metadata": {},
     "outputs": [],
     "prompt_number": 1
    },
    {
     "cell_type": "heading",
     "level": 1,
     "metadata": {},
     "source": [
      "Regular Lattice Weights "
     ]
    },
    {
     "cell_type": "code",
     "collapsed": false,
     "input": [
      "w = ps.lat2W()"
     ],
     "language": "python",
     "metadata": {},
     "outputs": [],
     "prompt_number": 2
    },
    {
     "cell_type": "code",
     "collapsed": false,
     "input": [
      "w.n"
     ],
     "language": "python",
     "metadata": {},
     "outputs": [
      {
       "metadata": {},
       "output_type": "pyout",
       "prompt_number": 3,
       "text": [
        "25"
       ]
      }
     ],
     "prompt_number": 3
    },
    {
     "cell_type": "code",
     "collapsed": false,
     "input": [
      "w.histogram"
     ],
     "language": "python",
     "metadata": {},
     "outputs": [
      {
       "metadata": {},
       "output_type": "pyout",
       "prompt_number": 4,
       "text": [
        "[(2, 4), (3, 12), (4, 9)]"
       ]
      }
     ],
     "prompt_number": 4
    },
    {
     "cell_type": "code",
     "collapsed": false,
     "input": [
      "w.neighbors"
     ],
     "language": "python",
     "metadata": {},
     "outputs": [
      {
       "metadata": {},
       "output_type": "pyout",
       "prompt_number": 5,
       "text": [
        "{0: [5, 1],\n",
        " 1: [0, 6, 2],\n",
        " 2: [1, 7, 3],\n",
        " 3: [2, 8, 4],\n",
        " 4: [3, 9],\n",
        " 5: [0, 10, 6],\n",
        " 6: [1, 5, 11, 7],\n",
        " 7: [2, 6, 12, 8],\n",
        " 8: [3, 7, 13, 9],\n",
        " 9: [4, 8, 14],\n",
        " 10: [5, 15, 11],\n",
        " 11: [6, 10, 16, 12],\n",
        " 12: [7, 11, 17, 13],\n",
        " 13: [8, 12, 18, 14],\n",
        " 14: [9, 13, 19],\n",
        " 15: [10, 20, 16],\n",
        " 16: [11, 15, 21, 17],\n",
        " 17: [12, 16, 22, 18],\n",
        " 18: [13, 17, 23, 19],\n",
        " 19: [14, 18, 24],\n",
        " 20: [15, 21],\n",
        " 21: [16, 20, 22],\n",
        " 22: [17, 21, 23],\n",
        " 23: [18, 22, 24],\n",
        " 24: [19, 23]}"
       ]
      }
     ],
     "prompt_number": 5
    },
    {
     "cell_type": "code",
     "collapsed": false,
     "input": [
      "w.weights"
     ],
     "language": "python",
     "metadata": {},
     "outputs": [
      {
       "metadata": {},
       "output_type": "pyout",
       "prompt_number": 6,
       "text": [
        "{0: [1.0, 1.0],\n",
        " 1: [1.0, 1.0, 1.0],\n",
        " 2: [1.0, 1.0, 1.0],\n",
        " 3: [1.0, 1.0, 1.0],\n",
        " 4: [1.0, 1.0],\n",
        " 5: [1.0, 1.0, 1.0],\n",
        " 6: [1.0, 1.0, 1.0, 1.0],\n",
        " 7: [1.0, 1.0, 1.0, 1.0],\n",
        " 8: [1.0, 1.0, 1.0, 1.0],\n",
        " 9: [1.0, 1.0, 1.0],\n",
        " 10: [1.0, 1.0, 1.0],\n",
        " 11: [1.0, 1.0, 1.0, 1.0],\n",
        " 12: [1.0, 1.0, 1.0, 1.0],\n",
        " 13: [1.0, 1.0, 1.0, 1.0],\n",
        " 14: [1.0, 1.0, 1.0],\n",
        " 15: [1.0, 1.0, 1.0],\n",
        " 16: [1.0, 1.0, 1.0, 1.0],\n",
        " 17: [1.0, 1.0, 1.0, 1.0],\n",
        " 18: [1.0, 1.0, 1.0, 1.0],\n",
        " 19: [1.0, 1.0, 1.0],\n",
        " 20: [1.0, 1.0],\n",
        " 21: [1.0, 1.0, 1.0],\n",
        " 22: [1.0, 1.0, 1.0],\n",
        " 23: [1.0, 1.0, 1.0],\n",
        " 24: [1.0, 1.0]}"
       ]
      }
     ],
     "prompt_number": 6
    },
    {
     "cell_type": "markdown",
     "metadata": {},
     "source": [
      "$s_0 = \\sum_i \\sum_j w_{i,j}$"
     ]
    },
    {
     "cell_type": "code",
     "collapsed": false,
     "input": [
      "w.s0"
     ],
     "language": "python",
     "metadata": {},
     "outputs": [
      {
       "metadata": {},
       "output_type": "pyout",
       "prompt_number": 7,
       "text": [
        "80.0"
       ]
      }
     ],
     "prompt_number": 7
    },
    {
     "cell_type": "code",
     "collapsed": false,
     "input": [
      "w.histogram"
     ],
     "language": "python",
     "metadata": {},
     "outputs": [
      {
       "metadata": {},
       "output_type": "pyout",
       "prompt_number": 8,
       "text": [
        "[(2, 4), (3, 12), (4, 9)]"
       ]
      }
     ],
     "prompt_number": 8
    },
    {
     "cell_type": "code",
     "collapsed": false,
     "input": [
      "np.sum( [ c[0]*c[1] for c in w.histogram ] )"
     ],
     "language": "python",
     "metadata": {},
     "outputs": [
      {
       "metadata": {},
       "output_type": "pyout",
       "prompt_number": 9,
       "text": [
        "80"
       ]
      }
     ],
     "prompt_number": 9
    },
    {
     "cell_type": "code",
     "collapsed": false,
     "input": [
      "w.pct_nonzero"
     ],
     "language": "python",
     "metadata": {},
     "outputs": [
      {
       "metadata": {},
       "output_type": "pyout",
       "prompt_number": 10,
       "text": [
        "0.128"
       ]
      }
     ],
     "prompt_number": 10
    },
    {
     "cell_type": "markdown",
     "metadata": {},
     "source": [
      "$pctnonzero = s_0 / n^2$"
     ]
    },
    {
     "cell_type": "code",
     "collapsed": false,
     "input": [
      "w.s0 / w.n**2"
     ],
     "language": "python",
     "metadata": {},
     "outputs": [
      {
       "metadata": {},
       "output_type": "pyout",
       "prompt_number": 11,
       "text": [
        "0.128"
       ]
      }
     ],
     "prompt_number": 11
    },
    {
     "cell_type": "heading",
     "level": 2,
     "metadata": {},
     "source": [
      "Queen Contiguity"
     ]
    },
    {
     "cell_type": "code",
     "collapsed": false,
     "input": [
      "wq = ps.lat2W(rook=False)"
     ],
     "language": "python",
     "metadata": {},
     "outputs": [],
     "prompt_number": 12
    },
    {
     "cell_type": "code",
     "collapsed": false,
     "input": [
      "wq.s0"
     ],
     "language": "python",
     "metadata": {},
     "outputs": [
      {
       "metadata": {},
       "output_type": "pyout",
       "prompt_number": 13,
       "text": [
        "144.0"
       ]
      }
     ],
     "prompt_number": 13
    },
    {
     "cell_type": "code",
     "collapsed": false,
     "input": [
      "wq.histogram"
     ],
     "language": "python",
     "metadata": {},
     "outputs": [
      {
       "metadata": {},
       "output_type": "pyout",
       "prompt_number": 14,
       "text": [
        "[(3, 4), (4, 0), (5, 12), (6, 0), (7, 0), (8, 9)]"
       ]
      }
     ],
     "prompt_number": 14
    },
    {
     "cell_type": "code",
     "collapsed": false,
     "input": [
      "np.sum( [ c[0] * c[1] for c in wq.histogram ] )"
     ],
     "language": "python",
     "metadata": {},
     "outputs": [
      {
       "metadata": {},
       "output_type": "pyout",
       "prompt_number": 15,
       "text": [
        "144"
       ]
      }
     ],
     "prompt_number": 15
    },
    {
     "cell_type": "code",
     "collapsed": false,
     "input": [
      "wq.pct_nonzero"
     ],
     "language": "python",
     "metadata": {},
     "outputs": [
      {
       "metadata": {},
       "output_type": "pyout",
       "prompt_number": 16,
       "text": [
        "0.2304"
       ]
      }
     ],
     "prompt_number": 16
    },
    {
     "cell_type": "code",
     "collapsed": false,
     "input": [
      "144. / wq.n**2"
     ],
     "language": "python",
     "metadata": {},
     "outputs": [
      {
       "metadata": {},
       "output_type": "pyout",
       "prompt_number": 17,
       "text": [
        "0.2304"
       ]
      }
     ],
     "prompt_number": 17
    },
    {
     "cell_type": "heading",
     "level": 2,
     "metadata": {},
     "source": [
      "Bishop"
     ]
    },
    {
     "cell_type": "code",
     "collapsed": false,
     "input": [
      "wb = ps.w_difference(wq,w, constrained = False)"
     ],
     "language": "python",
     "metadata": {},
     "outputs": [],
     "prompt_number": 18
    },
    {
     "cell_type": "code",
     "collapsed": false,
     "input": [
      "wb.n"
     ],
     "language": "python",
     "metadata": {},
     "outputs": [
      {
       "metadata": {},
       "output_type": "pyout",
       "prompt_number": 19,
       "text": [
        "25"
       ]
      }
     ],
     "prompt_number": 19
    },
    {
     "cell_type": "code",
     "collapsed": false,
     "input": [
      "wb.s0"
     ],
     "language": "python",
     "metadata": {},
     "outputs": [
      {
       "metadata": {},
       "output_type": "pyout",
       "prompt_number": 20,
       "text": [
        "64.0"
       ]
      }
     ],
     "prompt_number": 20
    },
    {
     "cell_type": "code",
     "collapsed": false,
     "input": [
      "w[0]"
     ],
     "language": "python",
     "metadata": {},
     "outputs": [
      {
       "metadata": {},
       "output_type": "pyout",
       "prompt_number": 21,
       "text": [
        "{1: 1.0, 5: 1.0}"
       ]
      }
     ],
     "prompt_number": 21
    },
    {
     "cell_type": "code",
     "collapsed": false,
     "input": [
      "wb[0]"
     ],
     "language": "python",
     "metadata": {},
     "outputs": [
      {
       "metadata": {},
       "output_type": "pyout",
       "prompt_number": 22,
       "text": [
        "{6: 1.0}"
       ]
      }
     ],
     "prompt_number": 22
    },
    {
     "cell_type": "code",
     "collapsed": false,
     "input": [
      "wq[0]"
     ],
     "language": "python",
     "metadata": {},
     "outputs": [
      {
       "metadata": {},
       "output_type": "pyout",
       "prompt_number": 23,
       "text": [
        "{1: 1.0, 5: 1.0, 6: 1.0}"
       ]
      }
     ],
     "prompt_number": 23
    },
    {
     "cell_type": "code",
     "collapsed": false,
     "input": [
      "ps.w_difference?"
     ],
     "language": "python",
     "metadata": {},
     "outputs": [],
     "prompt_number": 24
    },
    {
     "cell_type": "code",
     "collapsed": false,
     "input": [
      "wb.histogram"
     ],
     "language": "python",
     "metadata": {},
     "outputs": [
      {
       "metadata": {},
       "output_type": "pyout",
       "prompt_number": 25,
       "text": [
        "[(1, 4), (2, 12), (3, 0), (4, 9)]"
       ]
      }
     ],
     "prompt_number": 25
    },
    {
     "cell_type": "heading",
     "level": 2,
     "metadata": {},
     "source": [
      "Spatial Lag"
     ]
    },
    {
     "cell_type": "markdown",
     "metadata": {},
     "source": [
      "$l_i = \\sum_{i,j} w_{i,j} y_j$"
     ]
    },
    {
     "cell_type": "code",
     "collapsed": false,
     "input": [
      "y = np.arange(w.n)\n",
      "y"
     ],
     "language": "python",
     "metadata": {},
     "outputs": [
      {
       "metadata": {},
       "output_type": "pyout",
       "prompt_number": 26,
       "text": [
        "array([ 0,  1,  2,  3,  4,  5,  6,  7,  8,  9, 10, 11, 12, 13, 14, 15, 16,\n",
        "       17, 18, 19, 20, 21, 22, 23, 24])"
       ]
      }
     ],
     "prompt_number": 26
    },
    {
     "cell_type": "code",
     "collapsed": false,
     "input": [
      "wy = ps.lag_spatial(w,y)\n",
      "wy"
     ],
     "language": "python",
     "metadata": {},
     "outputs": [
      {
       "metadata": {},
       "output_type": "pyout",
       "prompt_number": 27,
       "text": [
        "array([  6.,   8.,  11.,  14.,  12.,  16.,  24.,  28.,  32.,  26.,  31.,\n",
        "        44.,  48.,  52.,  41.,  46.,  64.,  68.,  72.,  56.,  36.,  58.,\n",
        "        61.,  64.,  42.])"
       ]
      }
     ],
     "prompt_number": 27
    },
    {
     "cell_type": "code",
     "collapsed": false,
     "input": [
      "w[0]"
     ],
     "language": "python",
     "metadata": {},
     "outputs": [
      {
       "metadata": {},
       "output_type": "pyout",
       "prompt_number": 28,
       "text": [
        "{1: 1.0, 5: 1.0}"
       ]
      }
     ],
     "prompt_number": 28
    },
    {
     "cell_type": "code",
     "collapsed": false,
     "input": [
      "y[[1,5]]"
     ],
     "language": "python",
     "metadata": {},
     "outputs": [
      {
       "metadata": {},
       "output_type": "pyout",
       "prompt_number": 29,
       "text": [
        "array([1, 5])"
       ]
      }
     ],
     "prompt_number": 29
    },
    {
     "cell_type": "code",
     "collapsed": false,
     "input": [
      "y *= 10"
     ],
     "language": "python",
     "metadata": {},
     "outputs": [],
     "prompt_number": 30
    },
    {
     "cell_type": "code",
     "collapsed": false,
     "input": [
      "y"
     ],
     "language": "python",
     "metadata": {},
     "outputs": [
      {
       "metadata": {},
       "output_type": "pyout",
       "prompt_number": 31,
       "text": [
        "array([  0,  10,  20,  30,  40,  50,  60,  70,  80,  90, 100, 110, 120,\n",
        "       130, 140, 150, 160, 170, 180, 190, 200, 210, 220, 230, 240])"
       ]
      }
     ],
     "prompt_number": 31
    },
    {
     "cell_type": "code",
     "collapsed": false,
     "input": [
      "wy = ps.lag_spatial(w,y)"
     ],
     "language": "python",
     "metadata": {},
     "outputs": [],
     "prompt_number": 32
    },
    {
     "cell_type": "code",
     "collapsed": false,
     "input": [
      "wy"
     ],
     "language": "python",
     "metadata": {},
     "outputs": [
      {
       "metadata": {},
       "output_type": "pyout",
       "prompt_number": 33,
       "text": [
        "array([  60.,   80.,  110.,  140.,  120.,  160.,  240.,  280.,  320.,\n",
        "        260.,  310.,  440.,  480.,  520.,  410.,  460.,  640.,  680.,\n",
        "        720.,  560.,  360.,  580.,  610.,  640.,  420.])"
       ]
      }
     ],
     "prompt_number": 33
    },
    {
     "cell_type": "code",
     "collapsed": false,
     "input": [
      "w[0]"
     ],
     "language": "python",
     "metadata": {},
     "outputs": [
      {
       "metadata": {},
       "output_type": "pyout",
       "prompt_number": 34,
       "text": [
        "{1: 1.0, 5: 1.0}"
       ]
      }
     ],
     "prompt_number": 34
    },
    {
     "cell_type": "code",
     "collapsed": false,
     "input": [
      "y[[1,5]]"
     ],
     "language": "python",
     "metadata": {},
     "outputs": [
      {
       "metadata": {},
       "output_type": "pyout",
       "prompt_number": 35,
       "text": [
        "array([10, 50])"
       ]
      }
     ],
     "prompt_number": 35
    },
    {
     "cell_type": "code",
     "collapsed": false,
     "input": [
      "y[[1,5]].sum()"
     ],
     "language": "python",
     "metadata": {},
     "outputs": [
      {
       "metadata": {},
       "output_type": "pyout",
       "prompt_number": 36,
       "text": [
        "60"
       ]
      }
     ],
     "prompt_number": 36
    },
    {
     "cell_type": "code",
     "collapsed": false,
     "input": [
      "w.transform = 'R'"
     ],
     "language": "python",
     "metadata": {},
     "outputs": [],
     "prompt_number": 37
    },
    {
     "cell_type": "markdown",
     "metadata": {},
     "source": [
      "${w}_{i,j}^* = w_{i,j} / \\sum_j w_{i,j}$"
     ]
    },
    {
     "cell_type": "code",
     "collapsed": false,
     "input": [
      "wry = ps.lag_spatial(w,y)"
     ],
     "language": "python",
     "metadata": {},
     "outputs": [],
     "prompt_number": 38
    },
    {
     "cell_type": "code",
     "collapsed": false,
     "input": [
      "wry"
     ],
     "language": "python",
     "metadata": {},
     "outputs": [
      {
       "metadata": {},
       "output_type": "pyout",
       "prompt_number": 39,
       "text": [
        "array([  30.        ,   26.66666667,   36.66666667,   46.66666667,\n",
        "         60.        ,   53.33333333,   60.        ,   70.        ,\n",
        "         80.        ,   86.66666667,  103.33333333,  110.        ,\n",
        "        120.        ,  130.        ,  136.66666667,  153.33333333,\n",
        "        160.        ,  170.        ,  180.        ,  186.66666667,\n",
        "        180.        ,  193.33333333,  203.33333333,  213.33333333,  210.        ])"
       ]
      }
     ],
     "prompt_number": 39
    },
    {
     "cell_type": "code",
     "collapsed": false,
     "input": [
      "w[24]"
     ],
     "language": "python",
     "metadata": {},
     "outputs": [
      {
       "metadata": {},
       "output_type": "pyout",
       "prompt_number": 40,
       "text": [
        "{19: 0.5, 23: 0.5}"
       ]
      }
     ],
     "prompt_number": 40
    },
    {
     "cell_type": "code",
     "collapsed": false,
     "input": [
      "y[[19,23]].mean()"
     ],
     "language": "python",
     "metadata": {},
     "outputs": [
      {
       "metadata": {},
       "output_type": "pyout",
       "prompt_number": 41,
       "text": [
        "210.0"
       ]
      }
     ],
     "prompt_number": 41
    },
    {
     "cell_type": "heading",
     "level": 1,
     "metadata": {},
     "source": [
      "Weights From External Files"
     ]
    },
    {
     "cell_type": "heading",
     "level": 2,
     "metadata": {},
     "source": [
      "shapefiles"
     ]
    },
    {
     "cell_type": "code",
     "collapsed": false,
     "input": [
      "ls data"
     ],
     "language": "python",
     "metadata": {},
     "outputs": [
      {
       "output_type": "stream",
       "stream": "stdout",
       "text": [
        "04_Folium-PySAL.ipynb              nat.json\r\n",
        "07_global.ipynb                    nat_copy.gal\r\n",
        "1-s2.0-S1571065304002501-main.pdf  \u001b[31mohio.swm\u001b[m\u001b[m*\r\n",
        "\u001b[31m10740.dbf\u001b[m\u001b[m*                         \u001b[31mrook31.dbf\u001b[m\u001b[m*\r\n",
        "\u001b[31m10740.shp\u001b[m\u001b[m*                         \u001b[31mrook31.gal\u001b[m\u001b[m*\r\n",
        "\u001b[31m10740.shx\u001b[m\u001b[m*                         \u001b[31mrook31.shp\u001b[m\u001b[m*\r\n",
        "\u001b[31m10740_queen.gal\u001b[m\u001b[m*                   \u001b[31mrook31.shx\u001b[m\u001b[m*\r\n",
        "\u001b[31m10740_rook.gal\u001b[m\u001b[m*                    \u001b[31msacramentot2.dbf\u001b[m\u001b[m*\r\n",
        "\u001b[31mChicago77.dbf\u001b[m\u001b[m*                     \u001b[31msacramentot2.gal\u001b[m\u001b[m*\r\n",
        "\u001b[31mChicago77.shp\u001b[m\u001b[m*                     \u001b[31msacramentot2.sbn\u001b[m\u001b[m*\r\n",
        "\u001b[31mChicago77.shx\u001b[m\u001b[m*                     \u001b[31msacramentot2.sbx\u001b[m\u001b[m*\r\n",
        "\u001b[31mLine.dbf\u001b[m\u001b[m*                          \u001b[31msacramentot2.shp\u001b[m\u001b[m*\r\n",
        "\u001b[31mLine.prj\u001b[m\u001b[m*                          \u001b[31msacramentot2.shx\u001b[m\u001b[m*\r\n",
        "\u001b[31mLine.shp\u001b[m\u001b[m*                          \u001b[31msids2.dbf\u001b[m\u001b[m*\r\n",
        "\u001b[31mLine.shx\u001b[m\u001b[m*                          \u001b[31msids2.gal\u001b[m\u001b[m*\r",
        "\r\n",
        "\u001b[31mNAT.dbf\u001b[m\u001b[m*                           \u001b[31msids2.html\u001b[m\u001b[m*\r\n",
        "\u001b[31mNAT.shp\u001b[m\u001b[m*                           \u001b[31msids2.shp\u001b[m\u001b[m*\r\n",
        "\u001b[31mNAT.shx\u001b[m\u001b[m*                           \u001b[31msids2.shx\u001b[m\u001b[m*\r\n",
        "NAT.zip                            \u001b[31msids2.swm\u001b[m\u001b[m*\r\n",
        "\u001b[31mPoint.dbf\u001b[m\u001b[m*                         south.dbf\r\n",
        "\u001b[31mPoint.prj\u001b[m\u001b[m*                         south.gal\r\n",
        "\u001b[31mPoint.shp\u001b[m\u001b[m*                         south.html\r\n",
        "\u001b[31mPoint.shx\u001b[m\u001b[m*                         south.json\r\n",
        "\u001b[31mPolygon.dbf\u001b[m\u001b[m*                       south.json.webarchive\r\n",
        "\u001b[31mPolygon.prj\u001b[m\u001b[m*                       south.shp\r\n",
        "\u001b[31mPolygon.shp\u001b[m\u001b[m*                       south.shx\r\n",
        "\u001b[31mPolygon.shx\u001b[m\u001b[m*                       \u001b[31msouth.zip\u001b[m\u001b[m*\r\n",
        "\u001b[31mREADME.txt\u001b[m\u001b[m*                        \u001b[31mspat-sym-us.mat\u001b[m\u001b[m*\r\n",
        "\u001b[31marcgis_ohio.dbf\u001b[m\u001b[m*                   \u001b[31mspat-sym-us.wk1\u001b[m\u001b[m*\r\n",
        "\u001b[31marcgis_txt.txt\u001b[m\u001b[m*                    \u001b[31mspdep_listw2WB_columbus\u001b[m\u001b[m*\r\n",
        "atl_hom.dbf                        spi_download.csv\r\n",
        "atl_hom.shp                        \u001b[31mstata_full.txt\u001b[m\u001b[m*\r\n",
        "atl_hom.shx                        \u001b[31mstata_sparse.txt\u001b[m\u001b[m*\r\n",
        "\u001b[31matl_hom.zip\u001b[m\u001b[m*                       \u001b[31mstates48.gal\u001b[m\u001b[m*\r\n",
        "\u001b[31mbook.gal\u001b[m\u001b[m*                          \u001b[31mstl.gal\u001b[m\u001b[m*\r\n",
        "\u001b[31mbook.txt\u001b[m\u001b[m*                          \u001b[31mstl_hom.csv\u001b[m\u001b[m*\r\n",
        "\u001b[31mburkitt.dbf\u001b[m\u001b[m*                       \u001b[31mstl_hom.dbf\u001b[m\u001b[m*\r\n",
        "\u001b[31mburkitt.shp\u001b[m\u001b[m*                       \u001b[31mstl_hom.html\u001b[m\u001b[m*\r\n",
        "\u001b[31mburkitt.shx\u001b[m\u001b[m*                       \u001b[31mstl_hom.shp\u001b[m\u001b[m*\r\n",
        "\u001b[31mcalempdensity.csv\u001b[m\u001b[m*                 \u001b[31mstl_hom.shx\u001b[m\u001b[m*\r\n",
        "choropleth.py                      \u001b[31mstl_hom.txt\u001b[m\u001b[m*\r\n",
        "col_copy.gal                       \u001b[31mstl_hom.wkt\u001b[m\u001b[m*\r\n",
        "\u001b[31mcolumbus.dbf\u001b[m\u001b[m*                      \u001b[31mstl_hom_rook.gal\u001b[m\u001b[m*\r\n",
        "\u001b[31mcolumbus.gal\u001b[m\u001b[m*                      style.css\r\n",
        "\u001b[31mcolumbus.html\u001b[m\u001b[m*                     \u001b[31mus48.dbf\u001b[m\u001b[m*\r\n",
        "\u001b[31mcolumbus.shp\u001b[m\u001b[m*                      \u001b[31mus48.shp\u001b[m\u001b[m*\r\n",
        "\u001b[31mcolumbus.shx\u001b[m\u001b[m*                      \u001b[31mus48.shx\u001b[m\u001b[m*\r\n",
        "\u001b[31mdesmith.gal\u001b[m\u001b[m*                       usjoin.csv\r\n",
        "\u001b[31mdesmith.txt\u001b[m\u001b[m*                       \u001b[31mvirginia.dbf\u001b[m\u001b[m*\r\n",
        "\u001b[31mexamples.txt\u001b[m\u001b[m*                      \u001b[31mvirginia.gal\u001b[m\u001b[m*\r\n",
        "\u001b[31mgeobugs_scot\u001b[m\u001b[m*                      \u001b[31mvirginia.prj\u001b[m\u001b[m*\r\n",
        "hou_hom.dbf                        \u001b[31mvirginia.shp\u001b[m\u001b[m*\r\n",
        "hou_hom.shp                        \u001b[31mvirginia.shx\u001b[m\u001b[m*\r\n",
        "hou_hom.shx                        \u001b[31mvirginia_queen\u001b[m\u001b[m*\r\n",
        "houston_hom.zip                    \u001b[31mvirginia_queen.dat\u001b[m\u001b[m*\r\n",
        "houston_metadata.html              \u001b[31mvirginia_queen.dbf\u001b[m\u001b[m*\r\n",
        "\u001b[31mjuvenile.dbf\u001b[m\u001b[m*                      \u001b[31mvirginia_queen.gal\u001b[m\u001b[m*\r\n",
        "\u001b[31mjuvenile.gwt\u001b[m\u001b[m*                      \u001b[31mvirginia_queen.mat\u001b[m\u001b[m*\r\n",
        "\u001b[31mjuvenile.html\u001b[m\u001b[m*                     \u001b[31mvirginia_queen.mtx\u001b[m\u001b[m*\r\n",
        "\u001b[31mjuvenile.shp\u001b[m\u001b[m*                      \u001b[31mvirginia_queen.swm\u001b[m\u001b[m*\r\n",
        "\u001b[31mjuvenile.shx\u001b[m\u001b[m*                      \u001b[31mvirginia_queen.txt\u001b[m\u001b[m*\r\n",
        "\u001b[31mlattice10x10.shp\u001b[m\u001b[m*                  \u001b[31mvirginia_queen.wk1\u001b[m\u001b[m*\r\n",
        "\u001b[31mlattice10x10.shx\u001b[m\u001b[m*                  \u001b[31mvirginia_rook.gal\u001b[m\u001b[m*\r\n",
        "mapping.py                         w5_5.shp\r\n",
        "\u001b[31mmexico.csv\u001b[m\u001b[m*                        w5_5.shx\r\n",
        "\u001b[31mmexico.gal\u001b[m\u001b[m*                        \u001b[31mwmat.dat\u001b[m\u001b[m*\r\n",
        "nat.gal                            \u001b[31mwmat.mtx\u001b[m\u001b[m*\r\n"
       ]
      }
     ],
     "prompt_number": 42
    },
    {
     "cell_type": "code",
     "collapsed": false,
     "input": [
      "wsouth = ps.rook_from_shapefile(\"data/south.shp\")"
     ],
     "language": "python",
     "metadata": {},
     "outputs": [],
     "prompt_number": 43
    },
    {
     "cell_type": "code",
     "collapsed": false,
     "input": [
      "wsouth.n"
     ],
     "language": "python",
     "metadata": {},
     "outputs": [
      {
       "metadata": {},
       "output_type": "pyout",
       "prompt_number": 44,
       "text": [
        "1412"
       ]
      }
     ],
     "prompt_number": 44
    },
    {
     "cell_type": "code",
     "collapsed": false,
     "input": [
      "wsouth.pct_nonzero"
     ],
     "language": "python",
     "metadata": {},
     "outputs": [
      {
       "metadata": {},
       "output_type": "pyout",
       "prompt_number": 45,
       "text": [
        "0.0038620805880795125"
       ]
      }
     ],
     "prompt_number": 45
    },
    {
     "cell_type": "code",
     "collapsed": false,
     "input": [
      "wsq = ps.queen_from_shapefile(\"data/south.shp\")"
     ],
     "language": "python",
     "metadata": {},
     "outputs": [],
     "prompt_number": 46
    },
    {
     "cell_type": "code",
     "collapsed": false,
     "input": [
      "wsq.pct_nonzero"
     ],
     "language": "python",
     "metadata": {},
     "outputs": [
      {
       "metadata": {},
       "output_type": "pyout",
       "prompt_number": 47,
       "text": [
        "0.004060701875466459"
       ]
      }
     ],
     "prompt_number": 47
    },
    {
     "cell_type": "code",
     "collapsed": false,
     "input": [
      "wsouth.histogram"
     ],
     "language": "python",
     "metadata": {},
     "outputs": [
      {
       "metadata": {},
       "output_type": "pyout",
       "prompt_number": 48,
       "text": [
        "[(1, 16),\n",
        " (2, 32),\n",
        " (3, 65),\n",
        " (4, 187),\n",
        " (5, 378),\n",
        " (6, 435),\n",
        " (7, 230),\n",
        " (8, 56),\n",
        " (9, 11),\n",
        " (10, 2)]"
       ]
      }
     ],
     "prompt_number": 48
    },
    {
     "cell_type": "code",
     "collapsed": false,
     "input": [
      "wsq.histogram"
     ],
     "language": "python",
     "metadata": {},
     "outputs": [
      {
       "metadata": {},
       "output_type": "pyout",
       "prompt_number": 49,
       "text": [
        "[(1, 16),\n",
        " (2, 29),\n",
        " (3, 54),\n",
        " (4, 141),\n",
        " (5, 306),\n",
        " (6, 437),\n",
        " (7, 319),\n",
        " (8, 86),\n",
        " (9, 18),\n",
        " (10, 5),\n",
        " (11, 1)]"
       ]
      }
     ],
     "prompt_number": 49
    },
    {
     "cell_type": "code",
     "collapsed": false,
     "input": [
      "wh = np.array(wsouth.histogram)"
     ],
     "language": "python",
     "metadata": {},
     "outputs": [],
     "prompt_number": 50
    },
    {
     "cell_type": "code",
     "collapsed": false,
     "input": [
      "bar(wh[:,0],wh[:,1])"
     ],
     "language": "python",
     "metadata": {},
     "outputs": [
      {
       "metadata": {},
       "output_type": "pyout",
       "prompt_number": 51,
       "text": [
        "<Container object of 10 artists>"
       ]
      },
      {
       "metadata": {},
       "output_type": "display_data",
       "png": "[encoded data removed]",
       "text": [
        "<matplotlib.figure.Figure at 0x1096c32d0>"
       ]
      }
     ],
     "prompt_number": 51
    },
    {
     "cell_type": "code",
     "collapsed": false,
     "input": [
      "whq = np.array(wsq.histogram)"
     ],
     "language": "python",
     "metadata": {},
     "outputs": [],
     "prompt_number": 52
    },
    {
     "cell_type": "code",
     "collapsed": false,
     "input": [
      "bar(whq[:,0],whq[:,1])"
     ],
     "language": "python",
     "metadata": {},
     "outputs": [
      {
       "metadata": {},
       "output_type": "pyout",
       "prompt_number": 53,
       "text": [
        "<Container object of 11 artists>"
       ]
      },
      {
       "metadata": {},
       "output_type": "display_data",
       "png": "[encoded data removed]",
       "text": [
        "<matplotlib.figure.Figure at 0x109788bd0>"
       ]
      }
     ],
     "prompt_number": 53
    },
    {
     "cell_type": "heading",
     "level": 2,
     "metadata": {},
     "source": [
      "Distance Based Weights"
     ]
    },
    {
     "cell_type": "code",
     "collapsed": false,
     "input": [
      "x,y = np.indices((5,5))"
     ],
     "language": "python",
     "metadata": {},
     "outputs": [],
     "prompt_number": 54
    },
    {
     "cell_type": "code",
     "collapsed": false,
     "input": [
      "x.shape = (25,1)\n",
      "y.shape = (25,1)\n",
      "data = np.hstack([x,y])"
     ],
     "language": "python",
     "metadata": {},
     "outputs": [],
     "prompt_number": 55
    },
    {
     "cell_type": "code",
     "collapsed": false,
     "input": [
      "data"
     ],
     "language": "python",
     "metadata": {},
     "outputs": [
      {
       "metadata": {},
       "output_type": "pyout",
       "prompt_number": 56,
       "text": [
        "array([[0, 0],\n",
        "       [0, 1],\n",
        "       [0, 2],\n",
        "       [0, 3],\n",
        "       [0, 4],\n",
        "       [1, 0],\n",
        "       [1, 1],\n",
        "       [1, 2],\n",
        "       [1, 3],\n",
        "       [1, 4],\n",
        "       [2, 0],\n",
        "       [2, 1],\n",
        "       [2, 2],\n",
        "       [2, 3],\n",
        "       [2, 4],\n",
        "       [3, 0],\n",
        "       [3, 1],\n",
        "       [3, 2],\n",
        "       [3, 3],\n",
        "       [3, 4],\n",
        "       [4, 0],\n",
        "       [4, 1],\n",
        "       [4, 2],\n",
        "       [4, 3],\n",
        "       [4, 4]])"
       ]
      }
     ],
     "prompt_number": 56
    },
    {
     "cell_type": "heading",
     "level": 3,
     "metadata": {},
     "source": [
      "knn weights"
     ]
    },
    {
     "cell_type": "code",
     "collapsed": false,
     "input": [
      "wknn3 = ps.knnW(data, k = 3)"
     ],
     "language": "python",
     "metadata": {},
     "outputs": [],
     "prompt_number": 57
    },
    {
     "cell_type": "code",
     "collapsed": false,
     "input": [
      "wknn3[0]"
     ],
     "language": "python",
     "metadata": {},
     "outputs": [
      {
       "metadata": {},
       "output_type": "pyout",
       "prompt_number": 58,
       "text": [
        "{1: 1.0, 5: 1.0, 6: 1.0}"
       ]
      }
     ],
     "prompt_number": 58
    },
    {
     "cell_type": "code",
     "collapsed": false,
     "input": [
      "wknn3.histogram"
     ],
     "language": "python",
     "metadata": {},
     "outputs": [
      {
       "metadata": {},
       "output_type": "pyout",
       "prompt_number": 59,
       "text": [
        "[(3, 25)]"
       ]
      }
     ],
     "prompt_number": 59
    },
    {
     "cell_type": "heading",
     "level": 3,
     "metadata": {},
     "source": [
      "Distance Bands"
     ]
    },
    {
     "cell_type": "code",
     "collapsed": false,
     "input": [
      "wdb = ps.threshold_binaryW_from_array(data,2)"
     ],
     "language": "python",
     "metadata": {},
     "outputs": [],
     "prompt_number": 60
    },
    {
     "cell_type": "code",
     "collapsed": false,
     "input": [
      "wdb[0]"
     ],
     "language": "python",
     "metadata": {},
     "outputs": [
      {
       "metadata": {},
       "output_type": "pyout",
       "prompt_number": 61,
       "text": [
        "{1: 1, 2: 1, 5: 1, 6: 1, 10: 1}"
       ]
      }
     ],
     "prompt_number": 61
    },
    {
     "cell_type": "code",
     "collapsed": false,
     "input": [
      "wdb.histogram"
     ],
     "language": "python",
     "metadata": {},
     "outputs": [
      {
       "metadata": {},
       "output_type": "pyout",
       "prompt_number": 62,
       "text": [
        "[(5, 4), (6, 0), (7, 8), (8, 4), (9, 0), (10, 4), (11, 4), (12, 1)]"
       ]
      }
     ],
     "prompt_number": 62
    },
    {
     "cell_type": "code",
     "collapsed": false,
     "input": [
      "wdb.cardinalities"
     ],
     "language": "python",
     "metadata": {},
     "outputs": [
      {
       "metadata": {},
       "output_type": "pyout",
       "prompt_number": 63,
       "text": [
        "{0: 5,\n",
        " 1: 7,\n",
        " 2: 8,\n",
        " 3: 7,\n",
        " 4: 5,\n",
        " 5: 7,\n",
        " 6: 10,\n",
        " 7: 11,\n",
        " 8: 10,\n",
        " 9: 7,\n",
        " 10: 8,\n",
        " 11: 11,\n",
        " 12: 12,\n",
        " 13: 11,\n",
        " 14: 8,\n",
        " 15: 7,\n",
        " 16: 10,\n",
        " 17: 11,\n",
        " 18: 10,\n",
        " 19: 7,\n",
        " 20: 5,\n",
        " 21: 7,\n",
        " 22: 8,\n",
        " 23: 7,\n",
        " 24: 5}"
       ]
      }
     ],
     "prompt_number": 63
    },
    {
     "cell_type": "markdown",
     "metadata": {},
     "source": [
      "## Writing to external files"
     ]
    },
    {
     "cell_type": "code",
     "collapsed": false,
     "input": [
      "w = ps.rook_from_shapefile('data/nat.shp')"
     ],
     "language": "python",
     "metadata": {},
     "outputs": [],
     "prompt_number": 64
    },
    {
     "cell_type": "code",
     "collapsed": false,
     "input": [
      "w.n"
     ],
     "language": "python",
     "metadata": {},
     "outputs": [
      {
       "metadata": {},
       "output_type": "pyout",
       "prompt_number": 65,
       "text": [
        "3085"
       ]
      }
     ],
     "prompt_number": 65
    },
    {
     "cell_type": "code",
     "collapsed": false,
     "input": [
      "gal = ps.open('data/nat_copy.gal', 'w')"
     ],
     "language": "python",
     "metadata": {},
     "outputs": [],
     "prompt_number": 66
    },
    {
     "cell_type": "code",
     "collapsed": false,
     "input": [
      "gal.write(w)"
     ],
     "language": "python",
     "metadata": {},
     "outputs": [],
     "prompt_number": 67
    },
    {
     "cell_type": "code",
     "collapsed": false,
     "input": [
      "gal.close()"
     ],
     "language": "python",
     "metadata": {},
     "outputs": [],
     "prompt_number": 68
    },
    {
     "cell_type": "code",
     "collapsed": false,
     "input": [
      "gal = ps.open('data/nat_copy.gal', 'r')"
     ],
     "language": "python",
     "metadata": {},
     "outputs": [],
     "prompt_number": 69
    },
    {
     "cell_type": "code",
     "collapsed": false,
     "input": [
      "w1 = gal.read()"
     ],
     "language": "python",
     "metadata": {},
     "outputs": [],
     "prompt_number": 70
    },
    {
     "cell_type": "code",
     "collapsed": false,
     "input": [
      "w1.n"
     ],
     "language": "python",
     "metadata": {},
     "outputs": [
      {
       "metadata": {},
       "output_type": "pyout",
       "prompt_number": 71,
       "text": [
        "3085"
       ]
      }
     ],
     "prompt_number": 71
    },
    {
     "cell_type": "code",
     "collapsed": false,
     "input": [
      "w.pct_nonzero == w1.pct_nonzero"
     ],
     "language": "python",
     "metadata": {},
     "outputs": [
      {
       "metadata": {},
       "output_type": "pyout",
       "prompt_number": 72,
       "text": [
        "True"
       ]
      }
     ],
     "prompt_number": 72
    },
    {
     "cell_type": "code",
     "collapsed": false,
     "input": [],
     "language": "python",
     "metadata": {},
     "outputs": []
    }
   ],
   "metadata": {}
  }
 ]
}