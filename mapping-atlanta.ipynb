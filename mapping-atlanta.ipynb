{
 "metadata": {
  "name": ""
 },
 "nbformat": 3,
 "nbformat_minor": 0,
 "worksheets": [
  {
   "cells": [
    {
     "cell_type": "markdown",
     "metadata": {},
     "source": [
      "# Mapping\n",
      "\n",
      "- Shapefile to geojson\n",
      "- geojson to folium\n",
      "- base layer\n",
      "- choropleth"
     ]
    },
    {
     "cell_type": "markdown",
     "metadata": {},
     "source": [
      "The next set of four cells can be skipped if we do not have conectivity as the files are available locally. We include these cells for future reference."
     ]
    },
    {
     "cell_type": "code",
     "collapsed": false,
     "input": [
      "import os\n",
      "import json\n",
      "\n",
      "def shapefile_to_json(shp_path=None, json_out=None): \n",
      "    '''Write a shapefile to geoJSON via Ogre\n",
      "    \n",
      "    Make a HTTP POST request to the Ogre converter: \n",
      "    http://ogre.adc4gis.com/ to transform shapefiles\n",
      "    to geoJSON for Vincent.\n",
      "    \n",
      "    Parameters: \n",
      "    -----------\n",
      "    shp_path: string, default None\n",
      "        Path to zipped shapefiles. Must contain .shp, .dbf, and .shx. \n",
      "        .prj is optional\n",
      "    json_out: string, default None\n",
      "        Path to write geoJSON output. If None, will default to same\n",
      "        path as shp_path  \n",
      "        \n",
      "    Examples: \n",
      "    ---------\n",
      "    >>>(shp_path=r'countries.zip')      \n",
      "    \n",
      "    '''\n",
      "    import requests\n",
      "    url = r'http://ogre.adc4gis.com/convert'\n",
      "    shp_data = {'upload': open(shp_path, 'rb')}\n",
      "    print('Calling Ogre to perform shapefile to geoJSON conversion...')\n",
      "    try: \n",
      "        r = requests.post(url, files=shp_data)\n",
      "    except:\n",
      "        print(\"There was an error with the HTTP request\")\n",
      "        raise\n",
      "    r.raise_for_status()\n",
      "    if json_out: \n",
      "        path = '.'.join([name, 'json'])\n",
      "    else: \n",
      "        dir, zip = os.path.split(shp_path)\n",
      "        geoJSON = '.'.join([zip.split('.')[0], 'json'])\n",
      "        path = '/'.join([dir, geoJSON])\n",
      "        path = geoJSON\n",
      "    print('Writing to geoJSON. This may take some time if your shapefile'\n",
      "          ' is high resolution.')\n",
      "    with open(path, 'w') as f: \n",
      "        json.dump(r.json(), f, sort_keys=True, indent=4,\n",
      "                      separators=(',', ': '))\n",
      "    print \"GeoJSON file created at: %s\"%path"
     ],
     "language": "python",
     "metadata": {},
     "outputs": [],
     "prompt_number": 95
    },
    {
     "cell_type": "code",
     "collapsed": false,
     "input": [
      "zip_file = r'data/atl_hom.zip'"
     ],
     "language": "python",
     "metadata": {},
     "outputs": [],
     "prompt_number": 96
    },
    {
     "cell_type": "code",
     "collapsed": false,
     "input": [
      "shapefile_to_json(shp_path=zip_file)"
     ],
     "language": "python",
     "metadata": {},
     "outputs": [
      {
       "output_type": "stream",
       "stream": "stdout",
       "text": [
        "Calling Ogre to perform shapefile to geoJSON conversion...\n",
        "Writing to geoJSON. This may take some time if your shapefile is high resolution."
       ]
      },
      {
       "output_type": "stream",
       "stream": "stdout",
       "text": [
        "\n",
        "GeoJSON file created at: atl_hom.json"
       ]
      },
      {
       "output_type": "stream",
       "stream": "stdout",
       "text": [
        "\n"
       ]
      }
     ],
     "prompt_number": 97
    },
    {
     "cell_type": "code",
     "collapsed": false,
     "input": [
      "!ls"
     ],
     "language": "python",
     "metadata": {},
     "outputs": [
      {
       "output_type": "stream",
       "stream": "stdout",
       "text": [
        "00_notebook_intro.ipynb          Untitled0.ipynb                  homocide_q5.html                 map_p2_2957.html                 map_p8_6024.html\r\n",
        "01_notebook_intro.ipynb          atl_1.html                       homocide_sig.html                map_p2_588.html                  map_p9_1679.html\r\n",
        "01_spatial_data_processing.ipynb atl_hom.json                     homocide_sig01.html              map_p2_9600.html                 map_p9_3071.html\r\n",
        "02_file_io.ipynb                 choropleth.py                    houston_1.html                   map_p3_2672.html                 mapping-atlanta.ipynb\r\n",
        "03_plotting.ipynb                \u001b[1m\u001b[36mdata\u001b[m\u001b[m                             houston_hom.json                 map_p3_3554.html                 mapping.ipynb\r\n",
        "04_Folium-PySAL-Copy0.ipynb      data.json                        map_0_3104.html                  map_p3_9799.html                 mapping.py\r\n",
        "04_Folium-PySAL.ipynb            data2.json                       map_0_3873.html                  map_p4_1025.html                 mapping.pyc\r\n",
        "04_choropleth.ipynb              hist.png                         map_0_433.html                   map_p4_4248.html                 narsc_pysal_workshop.mm\r\n",
        "05_weights.ipynb                 homocide_1.html                  map_0_6094.html                  map_p4_8508.html                 regions.html\r\n",
        "06_gol.ipynb                     homocide_2.html                  map_0_8087.html                  map_p5_1778.html                 us_counties_20m_topo.json\r\n",
        "07_global.ipynb                  homocide_MB.html                 map_0_8492.html                  map_p5_2104.html                 us_county_data.csv\r\n",
        "08_local.ipynb                   homocide_MB5.html                map_p2_2376.html                 map_p6_4121.html\r\n",
        "09_dynamics.ipynb                homocide_fj.html                 map_p2_2608.html                 map_p6_9623.html\r\n",
        "README.md                        homocide_n_neighbors.html        map_p2_2952.html                 map_p7_1166.html\r\n"
       ]
      }
     ],
     "prompt_number": 98
    },
    {
     "cell_type": "markdown",
     "metadata": {},
     "source": [
      "## Base layer for Atlanta"
     ]
    },
    {
     "cell_type": "code",
     "collapsed": false,
     "input": [
      "import folium"
     ],
     "language": "python",
     "metadata": {},
     "outputs": [],
     "prompt_number": 99
    },
    {
     "cell_type": "code",
     "collapsed": false,
     "input": [
      "map_osm = folium.Map(location=[33.7550, -84.3900], zoom_start=7)"
     ],
     "language": "python",
     "metadata": {},
     "outputs": [],
     "prompt_number": 100
    },
    {
     "cell_type": "code",
     "collapsed": false,
     "input": [
      "map_osm.geo_json(geo_path = 'atl_hom.json')"
     ],
     "language": "python",
     "metadata": {},
     "outputs": [],
     "prompt_number": 101
    },
    {
     "cell_type": "code",
     "collapsed": false,
     "input": [
      "map_osm.create_map(path='atl_1.html')"
     ],
     "language": "python",
     "metadata": {},
     "outputs": [],
     "prompt_number": 102
    },
    {
     "cell_type": "code",
     "collapsed": false,
     "input": [
      "!ls"
     ],
     "language": "python",
     "metadata": {},
     "outputs": [
      {
       "output_type": "stream",
       "stream": "stdout",
       "text": [
        "00_notebook_intro.ipynb          Untitled0.ipynb                  homocide_q5.html                 map_p2_2957.html                 map_p8_6024.html\r\n",
        "01_notebook_intro.ipynb          atl_1.html                       homocide_sig.html                map_p2_588.html                  map_p9_1679.html\r\n",
        "01_spatial_data_processing.ipynb atl_hom.json                     homocide_sig01.html              map_p2_9600.html                 map_p9_3071.html\r\n",
        "02_file_io.ipynb                 choropleth.py                    houston_1.html                   map_p3_2672.html                 mapping-atlanta.ipynb\r\n",
        "03_plotting.ipynb                \u001b[1m\u001b[36mdata\u001b[m\u001b[m                             houston_hom.json                 map_p3_3554.html                 mapping.ipynb\r\n",
        "04_Folium-PySAL-Copy0.ipynb      data.json                        map_0_3104.html                  map_p3_9799.html                 mapping.py\r\n",
        "04_Folium-PySAL.ipynb            data2.json                       map_0_3873.html                  map_p4_1025.html                 mapping.pyc\r\n",
        "04_choropleth.ipynb              hist.png                         map_0_433.html                   map_p4_4248.html                 narsc_pysal_workshop.mm\r\n",
        "05_weights.ipynb                 homocide_1.html                  map_0_6094.html                  map_p4_8508.html                 regions.html\r\n",
        "06_gol.ipynb                     homocide_2.html                  map_0_8087.html                  map_p5_1778.html                 us_counties_20m_topo.json\r\n",
        "07_global.ipynb                  homocide_MB.html                 map_0_8492.html                  map_p5_2104.html                 us_county_data.csv\r\n",
        "08_local.ipynb                   homocide_MB5.html                map_p2_2376.html                 map_p6_4121.html\r\n",
        "09_dynamics.ipynb                homocide_fj.html                 map_p2_2608.html                 map_p6_9623.html\r\n",
        "README.md                        homocide_n_neighbors.html        map_p2_2952.html                 map_p7_1166.html\r\n"
       ]
      }
     ],
     "prompt_number": 103
    },
    {
     "cell_type": "markdown",
     "metadata": {},
     "source": [
      "## Binding Attribute Data to the Map"
     ]
    },
    {
     "cell_type": "code",
     "collapsed": false,
     "input": [
      "import json\n",
      "\n",
      "f = open('atl_hom.json')\n",
      "q = json.load(f)\n",
      "f.close()"
     ],
     "language": "python",
     "metadata": {},
     "outputs": [],
     "prompt_number": 104
    },
    {
     "cell_type": "code",
     "collapsed": false,
     "input": [
      "q.keys()"
     ],
     "language": "python",
     "metadata": {},
     "outputs": [
      {
       "metadata": {},
       "output_type": "pyout",
       "prompt_number": 105,
       "text": [
        "[u'type', u'features']"
       ]
      }
     ],
     "prompt_number": 105
    },
    {
     "cell_type": "code",
     "collapsed": false,
     "input": [
      "features = q['features']\n",
      "len(features)"
     ],
     "language": "python",
     "metadata": {},
     "outputs": [
      {
       "metadata": {},
       "output_type": "pyout",
       "prompt_number": 106,
       "text": [
        "90"
       ]
      }
     ],
     "prompt_number": 106
    },
    {
     "cell_type": "code",
     "collapsed": false,
     "input": [
      "feature_0 = features[0]"
     ],
     "language": "python",
     "metadata": {},
     "outputs": [],
     "prompt_number": 107
    },
    {
     "cell_type": "code",
     "collapsed": false,
     "input": [
      "feature_0"
     ],
     "language": "python",
     "metadata": {},
     "outputs": [
      {
       "metadata": {},
       "output_type": "pyout",
       "prompt_number": 108,
       "text": [
        "{u'geometry': {u'coordinates': [[[-84.2910385131836, 35.21054458618164],\n",
        "    [-84.22594451904297, 35.26160430908203],\n",
        "    [-84.17972564697266, 35.240989685058594],\n",
        "    [-84.10164642333984, 35.24555206298828],\n",
        "    [-84.04277801513672, 35.27257537841797],\n",
        "    [-84.0308609008789, 35.29252243041992],\n",
        "    [-84.00389099121094, 35.262088775634766],\n",
        "    [-83.99220275878906, 35.23250198364258],\n",
        "    [-83.96089935302734, 35.21538162231445],\n",
        "    [-83.9216537475586, 35.21896743774414],\n",
        "    [-83.83686065673828, 35.24674987792969],\n",
        "    [-83.79187774658203, 35.248661041259766],\n",
        "    [-83.7535629272461, 35.23716735839844],\n",
        "    [-83.69563293457031, 35.25080871582031],\n",
        "    [-83.69669342041016, 35.21443557739258],\n",
        "    [-83.72232818603516, 35.19727325439453],\n",
        "    [-83.71308135986328, 35.18075180053711],\n",
        "    [-83.7395248413086, 35.14583969116211],\n",
        "    [-83.7553939819336, 35.14806365966797],\n",
        "    [-83.8538818359375, 35.12579345703125],\n",
        "    [-83.90731811523438, 35.07041549682617],\n",
        "    [-83.95285034179688, 35.04844284057617],\n",
        "    [-83.95977020263672, 35.01912307739258],\n",
        "    [-83.9885482788086, 34.98906707763672],\n",
        "    [-84.11824035644531, 34.988224029541016],\n",
        "    [-84.3238525390625, 34.989009857177734],\n",
        "    [-84.2910385131836, 35.21054458618164]]],\n",
        "  u'type': u'Polygon'},\n",
        " u'properties': {u'CNTY_FIPS': u'039',\n",
        "  u'COFIPS': 39.0,\n",
        "  u'FIPS': u'37039',\n",
        "  u'FIPSNO': 37039.0,\n",
        "  u'HC7983': 6,\n",
        "  u'HC8587': 4,\n",
        "  u'HC8995': 11,\n",
        "  u'HR7983': 6.298816,\n",
        "  u'HR8587': 6.742065,\n",
        "  u'HR8995': 7.598889,\n",
        "  u'NAME': u'Cherokee',\n",
        "  u'PE77': 2.93348,\n",
        "  u'PE82': 1.605377,\n",
        "  u'PE87': 1.922455,\n",
        "  u'PO7983': 95256,\n",
        "  u'PO8587': 59329,\n",
        "  u'PO8995': 144758,\n",
        "  u'RDAC80': 0.897757,\n",
        "  u'RDAC85': 0.444341,\n",
        "  u'RDAC90': 0.134578,\n",
        "  u'STATE_FIPS': u'37',\n",
        "  u'STATE_NAME': u'North Carolina',\n",
        "  u'STFIPS': 37.0},\n",
        " u'type': u'Feature'}"
       ]
      }
     ],
     "prompt_number": 108
    },
    {
     "cell_type": "code",
     "collapsed": false,
     "input": [],
     "language": "python",
     "metadata": {},
     "outputs": [],
     "prompt_number": 108
    },
    {
     "cell_type": "code",
     "collapsed": false,
     "input": [
      "import pandas as pd\n",
      "indices = []\n",
      "values = []\n",
      "for feature in features:\n",
      "    indices.append(str(feature['properties']['FIPS']))\n",
      "    values.append(feature['properties']['HR8995'])"
     ],
     "language": "python",
     "metadata": {},
     "outputs": [],
     "prompt_number": 109
    },
    {
     "cell_type": "code",
     "collapsed": false,
     "input": [
      "df = pd.DataFrame({'HR8995': values,\n",
      "                   'FIPS': indices} )"
     ],
     "language": "python",
     "metadata": {},
     "outputs": [],
     "prompt_number": 110
    },
    {
     "cell_type": "code",
     "collapsed": false,
     "input": [
      "\n",
      "map_osm = folium.Map(location=[33.7550, -84.3900], zoom_start=7,)\n",
      "map_osm.geo_json(geo_path='atl_hom.json',\n",
      "                 key_on='feature.properties.FIPS',\n",
      "                 data_out='data.json', data=df,\n",
      "                 columns=['FIPS','HR8995'],\n",
      "                 fill_color='YlGn', fill_opacity=0.7,\n",
      "                 line_opacity=0.2,\n",
      "                 legend_name='Homicide Rate HR8995')\n",
      "map_osm.create_map('homocide_1.html')"
     ],
     "language": "python",
     "metadata": {},
     "outputs": [],
     "prompt_number": 111
    },
    {
     "cell_type": "code",
     "collapsed": false,
     "input": [
      "y = np.array(df.HR8995.tolist())"
     ],
     "language": "python",
     "metadata": {},
     "outputs": [],
     "prompt_number": 112
    },
    {
     "cell_type": "code",
     "collapsed": false,
     "input": [
      "import pysal as ps"
     ],
     "language": "python",
     "metadata": {},
     "outputs": [],
     "prompt_number": 113
    },
    {
     "cell_type": "code",
     "collapsed": false,
     "input": [
      "max_breaks = ps.Maximum_Breaks(y, 5)"
     ],
     "language": "python",
     "metadata": {},
     "outputs": [],
     "prompt_number": 114
    },
    {
     "cell_type": "code",
     "collapsed": false,
     "input": [
      "bins = max_breaks.bins.tolist()"
     ],
     "language": "python",
     "metadata": {},
     "outputs": [],
     "prompt_number": 115
    },
    {
     "cell_type": "code",
     "collapsed": false,
     "input": [
      "\n",
      "map_osm = folium.Map(location=[33.7550, -84.3900], zoom_start=7,)\n",
      "map_osm.geo_json(geo_path='atl_hom.json',\n",
      "                 key_on='feature.properties.FIPS',\n",
      "                 data_out='data.json', data=df,\n",
      "                 columns=['FIPS','HR8995'],\n",
      "                 fill_color='YlGn', fill_opacity=0.7,\n",
      "                 line_opacity=0.2,\n",
      "                 threshold_scale=bins[:-1],\n",
      "                 legend_name='Homicide Rate HR8995 (Maximum Breaks)')\n",
      "map_osm.create_map('homocide_MB.html')"
     ],
     "language": "python",
     "metadata": {},
     "outputs": [],
     "prompt_number": 116
    },
    {
     "cell_type": "code",
     "collapsed": false,
     "input": [
      "q5 = ps.Quantiles(y, 5).bins.tolist()"
     ],
     "language": "python",
     "metadata": {},
     "outputs": [],
     "prompt_number": 117
    },
    {
     "cell_type": "code",
     "collapsed": false,
     "input": [
      "\n",
      "map_osm = folium.Map(location=[33.7550, -84.3900], zoom_start=7,)\n",
      "map_osm.geo_json(geo_path='atl_hom.json',\n",
      "                 key_on='feature.properties.FIPS',\n",
      "                 data_out='data.json', data=df,\n",
      "                 columns=['FIPS','HR8995'],\n",
      "                 fill_color='YlGn', fill_opacity=0.7,\n",
      "                 line_opacity=0.2,\n",
      "                 threshold_scale=q5[:-1],\n",
      "                 legend_name='Homicide Rate HR8995 (Quintiles)')\n",
      "map_osm.create_map('homocide_q5.html')"
     ],
     "language": "python",
     "metadata": {},
     "outputs": [],
     "prompt_number": 118
    },
    {
     "cell_type": "code",
     "collapsed": false,
     "input": [
      "fj= ps.Fisher_Jenks(y, 5).bins"
     ],
     "language": "python",
     "metadata": {},
     "outputs": [],
     "prompt_number": 119
    },
    {
     "cell_type": "code",
     "collapsed": false,
     "input": [
      "\n",
      "map_osm = folium.Map(location=[33.7550, -84.3900], zoom_start=7,)\n",
      "map_osm.geo_json(geo_path='atl_hom.json',\n",
      "                 key_on='feature.properties.FIPS',\n",
      "                 data_out='data.json', data=df,\n",
      "                 columns=['FIPS','HR8995'],\n",
      "                 fill_color='YlGn', fill_opacity=0.7,\n",
      "                 line_opacity=0.2,\n",
      "                 threshold_scale=fj[:-1],\n",
      "                 legend_name='Homicide Rate HR8995 (Fisher Jenks)')\n",
      "map_osm.create_map('homocide_fj.html')"
     ],
     "language": "python",
     "metadata": {},
     "outputs": [],
     "prompt_number": 120
    },
    {
     "cell_type": "code",
     "collapsed": false,
     "input": [
      "w = ps.queen_from_shapefile('data/atl_hom.shp')"
     ],
     "language": "python",
     "metadata": {},
     "outputs": [],
     "prompt_number": 121
    },
    {
     "cell_type": "code",
     "collapsed": false,
     "input": [
      "w.n"
     ],
     "language": "python",
     "metadata": {},
     "outputs": [
      {
       "metadata": {},
       "output_type": "pyout",
       "prompt_number": 122,
       "text": [
        "90"
       ]
      }
     ],
     "prompt_number": 122
    },
    {
     "cell_type": "code",
     "collapsed": false,
     "input": [
      "w.transform = 'r'"
     ],
     "language": "python",
     "metadata": {},
     "outputs": [],
     "prompt_number": 123
    },
    {
     "cell_type": "code",
     "collapsed": false,
     "input": [
      "mi = ps.Moran(y,w)"
     ],
     "language": "python",
     "metadata": {},
     "outputs": [],
     "prompt_number": 124
    },
    {
     "cell_type": "code",
     "collapsed": false,
     "input": [
      "mi.p_norm"
     ],
     "language": "python",
     "metadata": {},
     "outputs": [
      {
       "metadata": {},
       "output_type": "pyout",
       "prompt_number": 125,
       "text": [
        "0.07968491704795122"
       ]
      }
     ],
     "prompt_number": 125
    },
    {
     "cell_type": "code",
     "collapsed": false,
     "input": [
      "li = ps.Moran_Local(y,w)"
     ],
     "language": "python",
     "metadata": {},
     "outputs": [],
     "prompt_number": 126
    },
    {
     "cell_type": "code",
     "collapsed": false,
     "input": [
      "li.p_sim"
     ],
     "language": "python",
     "metadata": {},
     "outputs": [
      {
       "metadata": {},
       "output_type": "pyout",
       "prompt_number": 127,
       "text": [
        "array([ 0.329,  0.154,  0.061,  0.013,  0.061,  0.171,  0.266,  0.018,\n",
        "        0.052,  0.044,  0.268,  0.083,  0.022,  0.019,  0.086,  0.006,\n",
        "        0.006,  0.059,  0.162,  0.249,  0.013,  0.058,  0.184,  0.002,\n",
        "        0.254,  0.167,  0.065,  0.425,  0.302,  0.273,  0.422,  0.419,\n",
        "        0.423,  0.041,  0.081,  0.156,  0.465,  0.303,  0.107,  0.494,\n",
        "        0.026,  0.011,  0.171,  0.24 ,  0.271,  0.299,  0.091,  0.364,\n",
        "        0.167,  0.3  ,  0.151,  0.344,  0.064,  0.42 ,  0.093,  0.164,\n",
        "        0.065,  0.171,  0.023,  0.236,  0.05 ,  0.109,  0.014,  0.356,\n",
        "        0.022,  0.44 ,  0.269,  0.479,  0.285,  0.107,  0.346,  0.344,\n",
        "        0.213,  0.121,  0.023,  0.096,  0.195,  0.351,  0.148,  0.489,\n",
        "        0.103,  0.203,  0.015,  0.165,  0.057,  0.347,  0.166,  0.047,\n",
        "        0.207,  0.05 ])"
       ]
      }
     ],
     "prompt_number": 127
    },
    {
     "cell_type": "code",
     "collapsed": false,
     "input": [
      "df['li_p'] = pd.Series(li.p_sim)"
     ],
     "language": "python",
     "metadata": {},
     "outputs": [],
     "prompt_number": 128
    },
    {
     "cell_type": "code",
     "collapsed": false,
     "input": [
      "df.li_p"
     ],
     "language": "python",
     "metadata": {},
     "outputs": [
      {
       "metadata": {},
       "output_type": "pyout",
       "prompt_number": 129,
       "text": [
        "0     0.329\n",
        "1     0.154\n",
        "2     0.061\n",
        "3     0.013\n",
        "4     0.061\n",
        "5     0.171\n",
        "6     0.266\n",
        "7     0.018\n",
        "8     0.052\n",
        "9     0.044\n",
        "10    0.268\n",
        "11    0.083\n",
        "12    0.022\n",
        "13    0.019\n",
        "14    0.086\n",
        "...\n",
        "75    0.096\n",
        "76    0.195\n",
        "77    0.351\n",
        "78    0.148\n",
        "79    0.489\n",
        "80    0.103\n",
        "81    0.203\n",
        "82    0.015\n",
        "83    0.165\n",
        "84    0.057\n",
        "85    0.347\n",
        "86    0.166\n",
        "87    0.047\n",
        "88    0.207\n",
        "89    0.050\n",
        "Name: li_p, Length: 90, dtype: float64"
       ]
      }
     ],
     "prompt_number": 129
    },
    {
     "cell_type": "code",
     "collapsed": false,
     "input": [
      "map_osm = folium.Map(location=[33.7550, -84.3900], zoom_start=7,)\n",
      "map_osm.geo_json(geo_path='atl_hom.json',\n",
      "                 key_on='feature.properties.FIPS',\n",
      "                 data_out='data.json', data=df,\n",
      "                 columns=['FIPS','li_p'],\n",
      "                 fill_color='YlGn', fill_opacity=0.7,\n",
      "                 line_opacity=0.2,\n",
      "                 threshold_scale=[ 0.05, 0.9],\n",
      "                 legend_name='Homicide Rate HR8995 Significance Map')\n",
      "map_osm.create_map('homocide_sig.html')"
     ],
     "language": "python",
     "metadata": {},
     "outputs": [],
     "prompt_number": 130
    },
    {
     "cell_type": "code",
     "collapsed": false,
     "input": [
      "df.li_p.min()"
     ],
     "language": "python",
     "metadata": {},
     "outputs": [
      {
       "metadata": {},
       "output_type": "pyout",
       "prompt_number": 131,
       "text": [
        "0.002"
       ]
      }
     ],
     "prompt_number": 131
    },
    {
     "cell_type": "code",
     "collapsed": false,
     "input": [
      "df['li_sig01'] = 1.0 * ( df.li_p <= 0.01 )"
     ],
     "language": "python",
     "metadata": {},
     "outputs": [],
     "prompt_number": 132
    },
    {
     "cell_type": "code",
     "collapsed": false,
     "input": [
      "df.li_sig01.sum()"
     ],
     "language": "python",
     "metadata": {},
     "outputs": [
      {
       "metadata": {},
       "output_type": "pyout",
       "prompt_number": 133,
       "text": [
        "3.0"
       ]
      }
     ],
     "prompt_number": 133
    },
    {
     "cell_type": "code",
     "collapsed": false,
     "input": [
      "df.li_sig01"
     ],
     "language": "python",
     "metadata": {},
     "outputs": [
      {
       "metadata": {},
       "output_type": "pyout",
       "prompt_number": 134,
       "text": [
        "0     0\n",
        "1     0\n",
        "2     0\n",
        "3     0\n",
        "4     0\n",
        "5     0\n",
        "6     0\n",
        "7     0\n",
        "8     0\n",
        "9     0\n",
        "10    0\n",
        "11    0\n",
        "12    0\n",
        "13    0\n",
        "14    0\n",
        "...\n",
        "75    0\n",
        "76    0\n",
        "77    0\n",
        "78    0\n",
        "79    0\n",
        "80    0\n",
        "81    0\n",
        "82    0\n",
        "83    0\n",
        "84    0\n",
        "85    0\n",
        "86    0\n",
        "87    0\n",
        "88    0\n",
        "89    0\n",
        "Name: li_sig01, Length: 90, dtype: float64"
       ]
      }
     ],
     "prompt_number": 134
    },
    {
     "cell_type": "code",
     "collapsed": false,
     "input": [
      "map_osm = folium.Map(location=[33.7550, -84.3900], zoom_start=7,)\n",
      "map_osm.geo_json(geo_path='atl_hom.json',\n",
      "                 key_on='feature.properties.FIPS',\n",
      "                 data_out='data.json', data=df,\n",
      "                 columns=['FIPS','li_sig01'],\n",
      "                 fill_color='YlGn', fill_opacity=0.7,\n",
      "                 line_opacity=0.2,\n",
      "                 threshold_scale = [0, 1.0],\n",
      "                 legend_name='Homicide Rate HR8995 Significance Map')\n",
      "map_osm.create_map('homocide_sig01.html')"
     ],
     "language": "python",
     "metadata": {},
     "outputs": [],
     "prompt_number": 135
    },
    {
     "cell_type": "markdown",
     "metadata": {},
     "source": [
      "## Number of neighbors"
     ]
    },
    {
     "cell_type": "code",
     "collapsed": false,
     "input": [
      "n_neighbors = w.cardinalities.values()"
     ],
     "language": "python",
     "metadata": {},
     "outputs": [],
     "prompt_number": 136
    },
    {
     "cell_type": "code",
     "collapsed": false,
     "input": [
      "n_neighbors"
     ],
     "language": "python",
     "metadata": {},
     "outputs": [
      {
       "metadata": {},
       "output_type": "pyout",
       "prompt_number": 137,
       "text": [
        "[3,\n",
        " 3,\n",
        " 5,\n",
        " 3,\n",
        " 3,\n",
        " 5,\n",
        " 5,\n",
        " 4,\n",
        " 5,\n",
        " 7,\n",
        " 4,\n",
        " 5,\n",
        " 7,\n",
        " 5,\n",
        " 5,\n",
        " 4,\n",
        " 8,\n",
        " 7,\n",
        " 6,\n",
        " 4,\n",
        " 5,\n",
        " 5,\n",
        " 7,\n",
        " 9,\n",
        " 4,\n",
        " 6,\n",
        " 7,\n",
        " 7,\n",
        " 5,\n",
        " 6,\n",
        " 4,\n",
        " 7,\n",
        " 3,\n",
        " 10,\n",
        " 7,\n",
        " 6,\n",
        " 5,\n",
        " 6,\n",
        " 6,\n",
        " 5,\n",
        " 7,\n",
        " 3,\n",
        " 4,\n",
        " 7,\n",
        " 5,\n",
        " 8,\n",
        " 6,\n",
        " 4,\n",
        " 8,\n",
        " 6,\n",
        " 4,\n",
        " 5,\n",
        " 6,\n",
        " 6,\n",
        " 4,\n",
        " 3,\n",
        " 5,\n",
        " 6,\n",
        " 4,\n",
        " 6,\n",
        " 7,\n",
        " 7,\n",
        " 4,\n",
        " 6,\n",
        " 4,\n",
        " 6,\n",
        " 4,\n",
        " 8,\n",
        " 7,\n",
        " 6,\n",
        " 5,\n",
        " 7,\n",
        " 4,\n",
        " 4,\n",
        " 7,\n",
        " 5,\n",
        " 4,\n",
        " 3,\n",
        " 7,\n",
        " 6,\n",
        " 4,\n",
        " 6,\n",
        " 6,\n",
        " 5,\n",
        " 4,\n",
        " 5,\n",
        " 4,\n",
        " 3,\n",
        " 3,\n",
        " 2]"
       ]
      }
     ],
     "prompt_number": 137
    },
    {
     "cell_type": "code",
     "collapsed": false,
     "input": [
      "df['n_neighbors'] = n_neighbors"
     ],
     "language": "python",
     "metadata": {},
     "outputs": [],
     "prompt_number": 138
    },
    {
     "cell_type": "code",
     "collapsed": false,
     "input": [
      "map_osm = folium.Map(location=[33.7550, -84.3900], zoom_start=7,)\n",
      "map_osm.geo_json(geo_path='atl_hom.json',\n",
      "                 key_on='feature.properties.FIPS',\n",
      "                 data_out='data.json', data=df,\n",
      "                 columns=['FIPS','n_neighbors'],\n",
      "                 fill_color='YlGn', fill_opacity=0.7,\n",
      "                 line_opacity=0.2,\n",
      "                 legend_name='Number of Neighbors')\n",
      "map_osm.create_map('homocide_n_neighbors.html')"
     ],
     "language": "python",
     "metadata": {},
     "outputs": [],
     "prompt_number": 139
    },
    {
     "cell_type": "code",
     "collapsed": false,
     "input": [
      "bins = ps.Quantiles(np.array(n_neighbors),5).bins.tolist()\n",
      "bins = [0]+bins"
     ],
     "language": "python",
     "metadata": {},
     "outputs": [],
     "prompt_number": 140
    },
    {
     "cell_type": "code",
     "collapsed": false,
     "input": [
      "map_osm = folium.Map(location=[33.7550, -84.3900], zoom_start=7,)\n",
      "map_osm.geo_json(geo_path='atl_hom.json',\n",
      "                 key_on='feature.properties.FIPS',\n",
      "                 data_out='data.json', data=df,\n",
      "                 columns=['FIPS','n_neighbors'],\n",
      "                 fill_color='YlGn', fill_opacity=0.7,\n",
      "                 line_opacity=0.2,\n",
      "                 threshold_scale=bins,\n",
      "                 legend_name='Number of Neighbors')\n",
      "map_osm.create_map('homocide_n_neighbors.html')"
     ],
     "language": "python",
     "metadata": {},
     "outputs": [],
     "prompt_number": 141
    },
    {
     "cell_type": "code",
     "collapsed": false,
     "input": [
      "bins"
     ],
     "language": "python",
     "metadata": {},
     "outputs": [
      {
       "metadata": {},
       "output_type": "pyout",
       "prompt_number": 142,
       "text": [
        "[0, 4.0, 5.0, 6.0, 7.0, 10.0]"
       ]
      }
     ],
     "prompt_number": 142
    },
    {
     "cell_type": "code",
     "collapsed": false,
     "input": [
      "n_neighbors"
     ],
     "language": "python",
     "metadata": {},
     "outputs": [
      {
       "metadata": {},
       "output_type": "pyout",
       "prompt_number": 143,
       "text": [
        "[3,\n",
        " 3,\n",
        " 5,\n",
        " 3,\n",
        " 3,\n",
        " 5,\n",
        " 5,\n",
        " 4,\n",
        " 5,\n",
        " 7,\n",
        " 4,\n",
        " 5,\n",
        " 7,\n",
        " 5,\n",
        " 5,\n",
        " 4,\n",
        " 8,\n",
        " 7,\n",
        " 6,\n",
        " 4,\n",
        " 5,\n",
        " 5,\n",
        " 7,\n",
        " 9,\n",
        " 4,\n",
        " 6,\n",
        " 7,\n",
        " 7,\n",
        " 5,\n",
        " 6,\n",
        " 4,\n",
        " 7,\n",
        " 3,\n",
        " 10,\n",
        " 7,\n",
        " 6,\n",
        " 5,\n",
        " 6,\n",
        " 6,\n",
        " 5,\n",
        " 7,\n",
        " 3,\n",
        " 4,\n",
        " 7,\n",
        " 5,\n",
        " 8,\n",
        " 6,\n",
        " 4,\n",
        " 8,\n",
        " 6,\n",
        " 4,\n",
        " 5,\n",
        " 6,\n",
        " 6,\n",
        " 4,\n",
        " 3,\n",
        " 5,\n",
        " 6,\n",
        " 4,\n",
        " 6,\n",
        " 7,\n",
        " 7,\n",
        " 4,\n",
        " 6,\n",
        " 4,\n",
        " 6,\n",
        " 4,\n",
        " 8,\n",
        " 7,\n",
        " 6,\n",
        " 5,\n",
        " 7,\n",
        " 4,\n",
        " 4,\n",
        " 7,\n",
        " 5,\n",
        " 4,\n",
        " 3,\n",
        " 7,\n",
        " 6,\n",
        " 4,\n",
        " 6,\n",
        " 6,\n",
        " 5,\n",
        " 4,\n",
        " 5,\n",
        " 4,\n",
        " 3,\n",
        " 3,\n",
        " 2]"
       ]
      }
     ],
     "prompt_number": 143
    },
    {
     "cell_type": "code",
     "collapsed": false,
     "input": [
      "y"
     ],
     "language": "python",
     "metadata": {},
     "outputs": [
      {
       "metadata": {},
       "output_type": "pyout",
       "prompt_number": 83,
       "text": [
        "array([  7.598889,  11.315708,   7.255753,  10.719135,   5.908183,\n",
        "         4.127222,   5.537778,   4.028928,   4.434049,   8.647302,\n",
        "         8.929551,   4.946039,   2.488342,   3.08366 ,   8.350421,\n",
        "         7.717515,   7.435555,   6.849127,  10.577148,   8.886688,\n",
        "         7.48524 ,   8.306545,   7.141072,   9.89328 ,   3.555556,\n",
        "         2.671012,   5.801936,   2.985283,   6.476994,   7.679208,\n",
        "        18.739787,  11.016427,  10.366579,  29.370922,   3.872291,\n",
        "        11.544473,   5.535022,  11.23516 ,   5.285707,  10.64535 ,\n",
        "        12.608574,   9.409867,  13.74356 ,   5.287129,  15.537506,\n",
        "        16.558485,   8.217715,   6.360271,   8.870924,   9.6302  ,\n",
        "         5.854757,   3.912564,  16.330911,   9.458859,  23.228804,\n",
        "        12.955071,  10.144222,   5.803169,   3.305901,   9.830747,\n",
        "         7.017117,  14.900592,   7.488073,  14.382281,  12.701034,\n",
        "        17.363015,   4.761073,  13.049018,  18.911337,  12.843889,\n",
        "         7.464119,   9.576404,   6.744271,   7.75508 ,   6.071973,\n",
        "        16.584451,  16.740056,  17.912257,   5.933438,  18.709826,\n",
        "        17.490417,  17.218001,   9.933522,   6.076349,   7.967442,\n",
        "        14.727269,   9.093094,   8.553431,  12.477725,   4.859559])"
       ]
      }
     ],
     "prompt_number": 83
    },
    {
     "cell_type": "code",
     "collapsed": false,
     "input": [
      "indices = []\n",
      "HR7983 = []\n",
      "HR8995 = []\n",
      "for feature in features:\n",
      "    indices.append(str(feature['properties']['FIPS']))\n",
      "    HR8995.append(feature['properties']['HR8995'])\n",
      "    HR7983.append(feature['properties']['HR7983'])"
     ],
     "language": "python",
     "metadata": {},
     "outputs": [],
     "prompt_number": 84
    },
    {
     "cell_type": "code",
     "collapsed": false,
     "input": [
      "HR = np.array([HR7983,HR8995])"
     ],
     "language": "python",
     "metadata": {},
     "outputs": [],
     "prompt_number": 85
    },
    {
     "cell_type": "code",
     "collapsed": false,
     "input": [
      "HR.shape"
     ],
     "language": "python",
     "metadata": {},
     "outputs": [
      {
       "metadata": {},
       "output_type": "pyout",
       "prompt_number": 86,
       "text": [
        "(2, 90)"
       ]
      }
     ],
     "prompt_number": 86
    },
    {
     "cell_type": "code",
     "collapsed": false,
     "input": [
      "HR = HR.T"
     ],
     "language": "python",
     "metadata": {},
     "outputs": [],
     "prompt_number": 87
    },
    {
     "cell_type": "code",
     "collapsed": false,
     "input": [
      "r = ps.Maxp(w, HR, floor=4, floor_variable = np.ones((90,1)), initial=99)"
     ],
     "language": "python",
     "metadata": {},
     "outputs": [],
     "prompt_number": 88
    },
    {
     "cell_type": "code",
     "collapsed": false,
     "input": [
      "r.regions"
     ],
     "language": "python",
     "metadata": {},
     "outputs": [
      {
       "metadata": {},
       "output_type": "pyout",
       "prompt_number": 89,
       "text": [
        "[[46, 49, 63, 53, 35],\n",
        " [71, 70, 78, 72, 83, 74],\n",
        " [13, 7, 23, 25, 34, 51],\n",
        " [67, 56, 33, 68],\n",
        " [24, 31, 29, 21, 2, 3, 43, 15, 12],\n",
        " [19, 22, 32, 37, 42],\n",
        " [17, 14, 8, 0],\n",
        " [9, 1, 5, 4],\n",
        " [79, 86, 80, 87],\n",
        " [73, 77, 64, 52, 54],\n",
        " [55, 45, 61, 75],\n",
        " [62, 76, 84, 88],\n",
        " [40, 39, 30, 41],\n",
        " [18, 16, 6, 10],\n",
        " [69, 60, 58, 66],\n",
        " [20, 27, 28, 11],\n",
        " [50, 48, 38, 47, 26, 36],\n",
        " [59, 57, 65, 44],\n",
        " [89, 81, 82, 85]]"
       ]
      }
     ],
     "prompt_number": 89
    },
    {
     "cell_type": "code",
     "collapsed": false,
     "input": [
      "r.area2region"
     ],
     "language": "python",
     "metadata": {},
     "outputs": [
      {
       "metadata": {},
       "output_type": "pyout",
       "prompt_number": 90,
       "text": [
        "{0: 6,\n",
        " 1: 7,\n",
        " 2: 4,\n",
        " 3: 4,\n",
        " 4: 7,\n",
        " 5: 7,\n",
        " 6: 13,\n",
        " 7: 2,\n",
        " 8: 6,\n",
        " 9: 7,\n",
        " 10: 13,\n",
        " 11: 15,\n",
        " 12: 4,\n",
        " 13: 2,\n",
        " 14: 6,\n",
        " 15: 4,\n",
        " 16: 13,\n",
        " 17: 6,\n",
        " 18: 13,\n",
        " 19: 5,\n",
        " 20: 15,\n",
        " 21: 4,\n",
        " 22: 5,\n",
        " 23: 2,\n",
        " 24: 4,\n",
        " 25: 2,\n",
        " 26: 16,\n",
        " 27: 15,\n",
        " 28: 15,\n",
        " 29: 4,\n",
        " 30: 12,\n",
        " 31: 4,\n",
        " 32: 5,\n",
        " 33: 3,\n",
        " 34: 2,\n",
        " 35: 0,\n",
        " 36: 16,\n",
        " 37: 5,\n",
        " 38: 16,\n",
        " 39: 12,\n",
        " 40: 12,\n",
        " 41: 12,\n",
        " 42: 5,\n",
        " 43: 4,\n",
        " 44: 17,\n",
        " 45: 10,\n",
        " 46: 0,\n",
        " 47: 16,\n",
        " 48: 16,\n",
        " 49: 0,\n",
        " 50: 16,\n",
        " 51: 2,\n",
        " 52: 9,\n",
        " 53: 0,\n",
        " 54: 9,\n",
        " 55: 10,\n",
        " 56: 3,\n",
        " 57: 17,\n",
        " 58: 14,\n",
        " 59: 17,\n",
        " 60: 14,\n",
        " 61: 10,\n",
        " 62: 11,\n",
        " 63: 0,\n",
        " 64: 9,\n",
        " 65: 17,\n",
        " 66: 14,\n",
        " 67: 3,\n",
        " 68: 3,\n",
        " 69: 14,\n",
        " 70: 1,\n",
        " 71: 1,\n",
        " 72: 1,\n",
        " 73: 9,\n",
        " 74: 1,\n",
        " 75: 10,\n",
        " 76: 11,\n",
        " 77: 9,\n",
        " 78: 1,\n",
        " 79: 8,\n",
        " 80: 8,\n",
        " 81: 18,\n",
        " 82: 18,\n",
        " 83: 1,\n",
        " 84: 11,\n",
        " 85: 18,\n",
        " 86: 8,\n",
        " 87: 8,\n",
        " 88: 11,\n",
        " 89: 18}"
       ]
      }
     ],
     "prompt_number": 90
    },
    {
     "cell_type": "code",
     "collapsed": false,
     "input": [
      "df['rids'] = r.area2region.values()"
     ],
     "language": "python",
     "metadata": {},
     "outputs": [],
     "prompt_number": 91
    },
    {
     "cell_type": "code",
     "collapsed": false,
     "input": [
      "map_osm = folium.Map(location=[33.7550, -84.3900], zoom_start=7,)\n",
      "map_osm.geo_json(geo_path='atl_hom.json',\n",
      "                 key_on='feature.properties.FIPS',\n",
      "                 data_out='data.json', data=df,\n",
      "                 columns=['FIPS','rids'],\n",
      "                 fill_color='YlGn', fill_opacity=0.7,\n",
      "                 line_opacity=0.2,\n",
      "                 threshold_scale=[0,1,2,3,4],\n",
      "                 legend_name='Spatial Regions')\n",
      "map_osm.create_map('regions.html')"
     ],
     "language": "python",
     "metadata": {},
     "outputs": [],
     "prompt_number": 92
    },
    {
     "cell_type": "code",
     "collapsed": false,
     "input": [
      "len(r.regions)"
     ],
     "language": "python",
     "metadata": {},
     "outputs": [
      {
       "metadata": {},
       "output_type": "pyout",
       "prompt_number": 93,
       "text": [
        "19"
       ]
      }
     ],
     "prompt_number": 93
    },
    {
     "cell_type": "code",
     "collapsed": false,
     "input": [
      "df.rids"
     ],
     "language": "python",
     "metadata": {},
     "outputs": [
      {
       "metadata": {},
       "output_type": "pyout",
       "prompt_number": 94,
       "text": [
        "0      6\n",
        "1      7\n",
        "2      4\n",
        "3      4\n",
        "4      7\n",
        "5      7\n",
        "6     13\n",
        "7      2\n",
        "8      6\n",
        "9      7\n",
        "10    13\n",
        "11    15\n",
        "12     4\n",
        "13     2\n",
        "14     6\n",
        "...\n",
        "75    10\n",
        "76    11\n",
        "77     9\n",
        "78     1\n",
        "79     8\n",
        "80     8\n",
        "81    18\n",
        "82    18\n",
        "83     1\n",
        "84    11\n",
        "85    18\n",
        "86     8\n",
        "87     8\n",
        "88    11\n",
        "89    18\n",
        "Name: rids, Length: 90, dtype: int64"
       ]
      }
     ],
     "prompt_number": 94
    },
    {
     "cell_type": "code",
     "collapsed": false,
     "input": [],
     "language": "python",
     "metadata": {},
     "outputs": [],
     "prompt_number": 61
    },
    {
     "cell_type": "code",
     "collapsed": false,
     "input": [],
     "language": "python",
     "metadata": {},
     "outputs": [],
     "prompt_number": 61
    },
    {
     "cell_type": "code",
     "collapsed": false,
     "input": [],
     "language": "python",
     "metadata": {},
     "outputs": [],
     "prompt_number": 61
    },
    {
     "cell_type": "code",
     "collapsed": false,
     "input": [],
     "language": "python",
     "metadata": {},
     "outputs": []
    }
   ],
   "metadata": {}
  }
 ]
}